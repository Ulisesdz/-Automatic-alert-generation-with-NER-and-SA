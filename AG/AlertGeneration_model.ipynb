{
  "cells": [
    {
      "cell_type": "markdown",
      "metadata": {
        "id": "VKaREErMcUu2"
      },
      "source": [
        "# Imports"
      ]
    },
    {
      "cell_type": "code",
      "execution_count": 3,
      "metadata": {
        "colab": {
          "base_uri": "https://localhost:8080/"
        },
        "id": "KjkoWXVLUxPy",
        "outputId": "236e02e9-d323-47e7-91be-0dc582df4a22"
      },
      "outputs": [
        {
          "output_type": "stream",
          "name": "stdout",
          "text": [
            "\u001b[?25l   \u001b[90m━━━━━━━━━━━━━━━━━━━━━━━━━━━━━━━━━━━━━━━━\u001b[0m \u001b[32m0.0/491.2 kB\u001b[0m \u001b[31m?\u001b[0m eta \u001b[36m-:--:--\u001b[0m\r\u001b[2K   \u001b[91m━━━━━━━━━━━━━━━━━━━━━━━━━━━━━━━━━━━━━━━\u001b[0m\u001b[90m╺\u001b[0m \u001b[32m481.3/491.2 kB\u001b[0m \u001b[31m22.2 MB/s\u001b[0m eta \u001b[36m0:00:01\u001b[0m\r\u001b[2K   \u001b[90m━━━━━━━━━━━━━━━━━━━━━━━━━━━━━━━━━━━━━━━━\u001b[0m \u001b[32m491.2/491.2 kB\u001b[0m \u001b[31m11.2 MB/s\u001b[0m eta \u001b[36m0:00:00\u001b[0m\n",
            "\u001b[?25h\u001b[?25l   \u001b[90m━━━━━━━━━━━━━━━━━━━━━━━━━━━━━━━━━━━━━━━━\u001b[0m \u001b[32m0.0/84.0 kB\u001b[0m \u001b[31m?\u001b[0m eta \u001b[36m-:--:--\u001b[0m\r\u001b[2K   \u001b[90m━━━━━━━━━━━━━━━━━━━━━━━━━━━━━━━━━━━━━━━━\u001b[0m \u001b[32m84.0/84.0 kB\u001b[0m \u001b[31m6.1 MB/s\u001b[0m eta \u001b[36m0:00:00\u001b[0m\n",
            "\u001b[?25h\u001b[?25l   \u001b[90m━━━━━━━━━━━━━━━━━━━━━━━━━━━━━━━━━━━━━━━━\u001b[0m \u001b[32m0.0/116.3 kB\u001b[0m \u001b[31m?\u001b[0m eta \u001b[36m-:--:--\u001b[0m\r\u001b[2K   \u001b[90m━━━━━━━━━━━━━━━━━━━━━━━━━━━━━━━━━━━━━━━━\u001b[0m \u001b[32m116.3/116.3 kB\u001b[0m \u001b[31m8.7 MB/s\u001b[0m eta \u001b[36m0:00:00\u001b[0m\n",
            "\u001b[2K   \u001b[90m━━━━━━━━━━━━━━━━━━━━━━━━━━━━━━━━━━━━━━━━\u001b[0m \u001b[32m183.9/183.9 kB\u001b[0m \u001b[31m13.5 MB/s\u001b[0m eta \u001b[36m0:00:00\u001b[0m\n",
            "\u001b[2K   \u001b[90m━━━━━━━━━━━━━━━━━━━━━━━━━━━━━━━━━━━━━━━━\u001b[0m \u001b[32m143.5/143.5 kB\u001b[0m \u001b[31m12.2 MB/s\u001b[0m eta \u001b[36m0:00:00\u001b[0m\n",
            "\u001b[2K   \u001b[90m━━━━━━━━━━━━━━━━━━━━━━━━━━━━━━━━━━━━━━━━\u001b[0m \u001b[32m194.8/194.8 kB\u001b[0m \u001b[31m12.9 MB/s\u001b[0m eta \u001b[36m0:00:00\u001b[0m\n",
            "\u001b[?25h\u001b[31mERROR: pip's dependency resolver does not currently take into account all the packages that are installed. This behaviour is the source of the following dependency conflicts.\n",
            "torch 2.6.0+cu124 requires nvidia-cublas-cu12==12.4.5.8; platform_system == \"Linux\" and platform_machine == \"x86_64\", but you have nvidia-cublas-cu12 12.5.3.2 which is incompatible.\n",
            "torch 2.6.0+cu124 requires nvidia-cuda-cupti-cu12==12.4.127; platform_system == \"Linux\" and platform_machine == \"x86_64\", but you have nvidia-cuda-cupti-cu12 12.5.82 which is incompatible.\n",
            "torch 2.6.0+cu124 requires nvidia-cuda-nvrtc-cu12==12.4.127; platform_system == \"Linux\" and platform_machine == \"x86_64\", but you have nvidia-cuda-nvrtc-cu12 12.5.82 which is incompatible.\n",
            "torch 2.6.0+cu124 requires nvidia-cuda-runtime-cu12==12.4.127; platform_system == \"Linux\" and platform_machine == \"x86_64\", but you have nvidia-cuda-runtime-cu12 12.5.82 which is incompatible.\n",
            "torch 2.6.0+cu124 requires nvidia-cudnn-cu12==9.1.0.70; platform_system == \"Linux\" and platform_machine == \"x86_64\", but you have nvidia-cudnn-cu12 9.3.0.75 which is incompatible.\n",
            "torch 2.6.0+cu124 requires nvidia-cufft-cu12==11.2.1.3; platform_system == \"Linux\" and platform_machine == \"x86_64\", but you have nvidia-cufft-cu12 11.2.3.61 which is incompatible.\n",
            "torch 2.6.0+cu124 requires nvidia-curand-cu12==10.3.5.147; platform_system == \"Linux\" and platform_machine == \"x86_64\", but you have nvidia-curand-cu12 10.3.6.82 which is incompatible.\n",
            "torch 2.6.0+cu124 requires nvidia-cusolver-cu12==11.6.1.9; platform_system == \"Linux\" and platform_machine == \"x86_64\", but you have nvidia-cusolver-cu12 11.6.3.83 which is incompatible.\n",
            "torch 2.6.0+cu124 requires nvidia-cusparse-cu12==12.3.1.170; platform_system == \"Linux\" and platform_machine == \"x86_64\", but you have nvidia-cusparse-cu12 12.5.1.3 which is incompatible.\n",
            "torch 2.6.0+cu124 requires nvidia-nvjitlink-cu12==12.4.127; platform_system == \"Linux\" and platform_machine == \"x86_64\", but you have nvidia-nvjitlink-cu12 12.5.82 which is incompatible.\n",
            "gcsfs 2025.3.2 requires fsspec==2025.3.2, but you have fsspec 2024.12.0 which is incompatible.\u001b[0m\u001b[31m\n",
            "\u001b[0m"
          ]
        }
      ],
      "source": [
        "!pip install transformers datasets evaluate -q"
      ]
    },
    {
      "cell_type": "code",
      "execution_count": 4,
      "metadata": {
        "colab": {
          "base_uri": "https://localhost:8080/"
        },
        "id": "dYyj8PXn4D58",
        "outputId": "afc9f52c-c94a-4488-b09c-2000eb8b3090"
      },
      "outputs": [
        {
          "output_type": "stream",
          "name": "stdout",
          "text": [
            "Requirement already satisfied: wandb in /usr/local/lib/python3.11/dist-packages (0.19.9)\n",
            "Requirement already satisfied: click!=8.0.0,>=7.1 in /usr/local/lib/python3.11/dist-packages (from wandb) (8.1.8)\n",
            "Requirement already satisfied: docker-pycreds>=0.4.0 in /usr/local/lib/python3.11/dist-packages (from wandb) (0.4.0)\n",
            "Requirement already satisfied: gitpython!=3.1.29,>=1.0.0 in /usr/local/lib/python3.11/dist-packages (from wandb) (3.1.44)\n",
            "Requirement already satisfied: platformdirs in /usr/local/lib/python3.11/dist-packages (from wandb) (4.3.7)\n",
            "Requirement already satisfied: protobuf!=4.21.0,!=5.28.0,<6,>=3.19.0 in /usr/local/lib/python3.11/dist-packages (from wandb) (5.29.4)\n",
            "Requirement already satisfied: psutil>=5.0.0 in /usr/local/lib/python3.11/dist-packages (from wandb) (5.9.5)\n",
            "Requirement already satisfied: pydantic<3 in /usr/local/lib/python3.11/dist-packages (from wandb) (2.11.2)\n",
            "Requirement already satisfied: pyyaml in /usr/local/lib/python3.11/dist-packages (from wandb) (6.0.2)\n",
            "Requirement already satisfied: requests<3,>=2.0.0 in /usr/local/lib/python3.11/dist-packages (from wandb) (2.32.3)\n",
            "Requirement already satisfied: sentry-sdk>=2.0.0 in /usr/local/lib/python3.11/dist-packages (from wandb) (2.25.1)\n",
            "Requirement already satisfied: setproctitle in /usr/local/lib/python3.11/dist-packages (from wandb) (1.3.5)\n",
            "Requirement already satisfied: setuptools in /usr/local/lib/python3.11/dist-packages (from wandb) (75.2.0)\n",
            "Requirement already satisfied: typing-extensions<5,>=4.4 in /usr/local/lib/python3.11/dist-packages (from wandb) (4.13.1)\n",
            "Requirement already satisfied: six>=1.4.0 in /usr/local/lib/python3.11/dist-packages (from docker-pycreds>=0.4.0->wandb) (1.17.0)\n",
            "Requirement already satisfied: gitdb<5,>=4.0.1 in /usr/local/lib/python3.11/dist-packages (from gitpython!=3.1.29,>=1.0.0->wandb) (4.0.12)\n",
            "Requirement already satisfied: annotated-types>=0.6.0 in /usr/local/lib/python3.11/dist-packages (from pydantic<3->wandb) (0.7.0)\n",
            "Requirement already satisfied: pydantic-core==2.33.1 in /usr/local/lib/python3.11/dist-packages (from pydantic<3->wandb) (2.33.1)\n",
            "Requirement already satisfied: typing-inspection>=0.4.0 in /usr/local/lib/python3.11/dist-packages (from pydantic<3->wandb) (0.4.0)\n",
            "Requirement already satisfied: charset-normalizer<4,>=2 in /usr/local/lib/python3.11/dist-packages (from requests<3,>=2.0.0->wandb) (3.4.1)\n",
            "Requirement already satisfied: idna<4,>=2.5 in /usr/local/lib/python3.11/dist-packages (from requests<3,>=2.0.0->wandb) (3.10)\n",
            "Requirement already satisfied: urllib3<3,>=1.21.1 in /usr/local/lib/python3.11/dist-packages (from requests<3,>=2.0.0->wandb) (2.3.0)\n",
            "Requirement already satisfied: certifi>=2017.4.17 in /usr/local/lib/python3.11/dist-packages (from requests<3,>=2.0.0->wandb) (2025.1.31)\n",
            "Requirement already satisfied: smmap<6,>=3.0.1 in /usr/local/lib/python3.11/dist-packages (from gitdb<5,>=4.0.1->gitpython!=3.1.29,>=1.0.0->wandb) (5.0.2)\n"
          ]
        }
      ],
      "source": [
        "pip install wandb"
      ]
    },
    {
      "cell_type": "code",
      "execution_count": 5,
      "metadata": {
        "colab": {
          "base_uri": "https://localhost:8080/"
        },
        "id": "x2wLtR7JNyOV",
        "outputId": "787678d8-d56d-46e2-eb1e-61c4f549c4ee"
      },
      "outputs": [
        {
          "output_type": "stream",
          "name": "stdout",
          "text": [
            "Collecting rouge_score\n",
            "  Downloading rouge_score-0.1.2.tar.gz (17 kB)\n",
            "  Preparing metadata (setup.py) ... \u001b[?25l\u001b[?25hdone\n",
            "Requirement already satisfied: absl-py in /usr/local/lib/python3.11/dist-packages (from rouge_score) (1.4.0)\n",
            "Requirement already satisfied: nltk in /usr/local/lib/python3.11/dist-packages (from rouge_score) (3.9.1)\n",
            "Requirement already satisfied: numpy in /usr/local/lib/python3.11/dist-packages (from rouge_score) (2.0.2)\n",
            "Requirement already satisfied: six>=1.14.0 in /usr/local/lib/python3.11/dist-packages (from rouge_score) (1.17.0)\n",
            "Requirement already satisfied: click in /usr/local/lib/python3.11/dist-packages (from nltk->rouge_score) (8.1.8)\n",
            "Requirement already satisfied: joblib in /usr/local/lib/python3.11/dist-packages (from nltk->rouge_score) (1.4.2)\n",
            "Requirement already satisfied: regex>=2021.8.3 in /usr/local/lib/python3.11/dist-packages (from nltk->rouge_score) (2024.11.6)\n",
            "Requirement already satisfied: tqdm in /usr/local/lib/python3.11/dist-packages (from nltk->rouge_score) (4.67.1)\n",
            "Building wheels for collected packages: rouge_score\n",
            "  Building wheel for rouge_score (setup.py) ... \u001b[?25l\u001b[?25hdone\n",
            "  Created wheel for rouge_score: filename=rouge_score-0.1.2-py3-none-any.whl size=24934 sha256=ce6cf249ec298c105fc0ef9a710377189907fcfbe58100267cf3b8024c5b2547\n",
            "  Stored in directory: /root/.cache/pip/wheels/1e/19/43/8a442dc83660ca25e163e1bd1f89919284ab0d0c1475475148\n",
            "Successfully built rouge_score\n",
            "Installing collected packages: rouge_score\n",
            "Successfully installed rouge_score-0.1.2\n"
          ]
        }
      ],
      "source": [
        "!pip install rouge_score"
      ]
    },
    {
      "cell_type": "code",
      "execution_count": 6,
      "metadata": {
        "id": "nmnEAC1NS2QW"
      },
      "outputs": [],
      "source": [
        "import pandas as pd\n",
        "import ast\n",
        "from datasets import load_dataset"
      ]
    },
    {
      "cell_type": "code",
      "execution_count": 7,
      "metadata": {
        "colab": {
          "base_uri": "https://localhost:8080/"
        },
        "id": "mtHy6CkXR2O3",
        "outputId": "8ff54a3f-a963-48cd-f04e-7be772ecc0ba"
      },
      "outputs": [
        {
          "output_type": "stream",
          "name": "stdout",
          "text": [
            "Drive already mounted at /content/drive; to attempt to forcibly remount, call drive.mount(\"/content/drive\", force_remount=True).\n"
          ]
        }
      ],
      "source": [
        "#subimos archivos\n",
        "from google.colab import drive\n",
        "drive.mount('/content/drive')\n",
        "\n",
        "train_path = \"/content/drive/MyDrive/ICAI/ProyectoFinal Deep+NLP/SA+NER/train/conll2003_train_SA.csv\"\n",
        "valid_path = \"/content/drive/MyDrive/ICAI/ProyectoFinal Deep+NLP/SA+NER/train/conll2003_validation_SA.csv\"\n",
        "test_path = \"/content/drive/MyDrive/ICAI/ProyectoFinal Deep+NLP/SA+NER/test/conll2003_test_SA.csv\""
      ]
    },
    {
      "cell_type": "code",
      "execution_count": null,
      "metadata": {
        "id": "ms8-QRBwWk8R"
      },
      "outputs": [],
      "source": [
        "df_train = pd.read_csv(train_path)\n",
        "df_valid = pd.read_csv(valid_path)\n",
        "df_test = pd.read_csv(test_path)\n",
        "datasets = [df_train, df_valid, df_test]"
      ]
    },
    {
      "cell_type": "markdown",
      "metadata": {
        "id": "Zz-l5lVGcX4b"
      },
      "source": [
        "# Preprocesado para limpiar datasets y generar inputs y outputs, por ahora ignoramos el texto de entrada (podríamso resumirlo e introducirlo resumido además)"
      ]
    },
    {
      "cell_type": "code",
      "execution_count": null,
      "metadata": {
        "id": "PIh4wLima1ii"
      },
      "outputs": [],
      "source": [
        "label_map = {\n",
        "    0: \"O\",\n",
        "    1: \"B-PER\", 2: \"I-PER\",\n",
        "    3: \"B-ORG\", 4: \"I-ORG\",\n",
        "    5: \"B-LOC\", 6: \"I-LOC\",\n",
        "    7: \"B-MISC\", 8: \"I-MISC\"\n",
        "}"
      ]
    },
    {
      "cell_type": "code",
      "execution_count": null,
      "metadata": {
        "id": "tdJrsCL6Mii1"
      },
      "outputs": [],
      "source": [
        "def sentimiento_label(sent):\n",
        "    return \"positive\" if sent == 1 else \"negative\""
      ]
    },
    {
      "cell_type": "code",
      "execution_count": null,
      "metadata": {
        "id": "f6IHyqCRfP06"
      },
      "outputs": [],
      "source": [
        "#necesitamos extraer la entidad completa a partir del NER\n",
        "def extraer_entidades(tokens, ner_tags):\n",
        "    entidades = []\n",
        "    entidad_actual = \"\"\n",
        "    etiqueta_actual = \"\"\n",
        "\n",
        "    for token, tag in zip(tokens, ner_tags):\n",
        "        etiqueta = label_map.get(tag, \"O\")\n",
        "\n",
        "        if etiqueta.startswith(\"B-\"):\n",
        "            if entidad_actual:\n",
        "                entidades.append((entidad_actual.strip(), etiqueta_actual))\n",
        "            entidad_actual = token\n",
        "            etiqueta_actual = etiqueta[2:]\n",
        "        elif etiqueta.startswith(\"I-\") and etiqueta_actual == etiqueta[2:]:\n",
        "            entidad_actual += \" \" + token\n",
        "        else:\n",
        "            if entidad_actual:\n",
        "                entidades.append((entidad_actual.strip(), etiqueta_actual))\n",
        "            entidad_actual = \"\"\n",
        "            etiqueta_actual = \"\"\n",
        "\n",
        "    if entidad_actual:\n",
        "        entidades.append((entidad_actual.strip(), etiqueta_actual))\n",
        "\n",
        "    return entidades"
      ]
    },
    {
      "cell_type": "code",
      "execution_count": null,
      "metadata": {
        "id": "2Ig-cc3HfZ-z"
      },
      "outputs": [],
      "source": [
        "def construir_input(row):\n",
        "    entidades = \"; \".join([f\"{e[0]} ({e[1]})\" for e in row[\"entities\"]])\n",
        "    sentimiento = sentimiento_label(row[\"sentiment\"])\n",
        "    return f\"Entidades: {entidades}. Sentimiento: {sentimiento}. Texto: {row['sentence']}\""
      ]
    },
    {
      "cell_type": "code",
      "execution_count": null,
      "metadata": {
        "id": "UEgrdYBcnkJF"
      },
      "outputs": [],
      "source": [
        "def parse_numeric_list(raw):\n",
        "    if isinstance(raw, list):\n",
        "        return raw\n",
        "    if isinstance(raw, str):\n",
        "        # Elimina corchetes y convierte a lista de enteros\n",
        "        cleaned = raw.strip(\"[]\")           # quita los corchetes\n",
        "        values = cleaned.split()            # separa por espacios\n",
        "        try:\n",
        "            return [int(x) for x in values]\n",
        "        except ValueError:\n",
        "            return []\n",
        "    return []\n",
        "\n",
        "for df in datasets:\n",
        "    df[\"ner_tags\"] = df[\"ner_tags\"].apply(parse_numeric_list)"
      ]
    },
    {
      "cell_type": "code",
      "execution_count": null,
      "metadata": {
        "id": "r_cYr9XRuQTr"
      },
      "outputs": [],
      "source": [
        "import re\n",
        "def parse_token_list(raw):\n",
        "    if isinstance(raw, list):\n",
        "        return raw\n",
        "    if isinstance(raw, str):\n",
        "        return re.findall(r\"'(.*?)'\", raw)\n",
        "    return []\n",
        "\n",
        "for df in datasets:\n",
        "    df[\"tokens\"] = df[\"tokens\"].apply(parse_token_list)"
      ]
    },
    {
      "cell_type": "code",
      "execution_count": null,
      "metadata": {
        "id": "vqZWz4mXbiMU"
      },
      "outputs": [],
      "source": [
        "# modificamos los datasets\n",
        "for df in datasets:\n",
        "  df[\"entities\"] = df.apply(lambda row: extraer_entidades(row[\"tokens\"], row[\"ner_tags\"]), axis=1)\n",
        "  df[\"input_text\"] = df.apply(construir_input, axis=1)"
      ]
    },
    {
      "cell_type": "code",
      "execution_count": null,
      "metadata": {
        "id": "fw5_Z5gQR_-m"
      },
      "outputs": [],
      "source": [
        "import re\n",
        "\n",
        "def clean_entities(entities):\n",
        "    \"\"\"\n",
        "    Remove empty strings, non-word entities, or suspicious tokens from the entity list.\n",
        "    \"\"\"\n",
        "    cleaned = []\n",
        "    for ent, tag in entities:\n",
        "        if not ent or not isinstance(ent, str):\n",
        "            continue\n",
        "        ent_clean = ent.strip()\n",
        "        if not ent_clean:\n",
        "            continue\n",
        "        # Filtrar cosas que no parecen nombres reales de entidades\n",
        "        if len(ent_clean) < 2 or re.fullmatch(r'[\\W_]+', ent_clean):\n",
        "            continue\n",
        "        if ent_clean.lower() in ['in', 's\"', 'the', 'and', 'a', 'of']:\n",
        "            continue\n",
        "        cleaned.append((ent_clean, tag))\n",
        "    return cleaned\n"
      ]
    },
    {
      "cell_type": "code",
      "execution_count": null,
      "metadata": {
        "id": "9W73W8vOKuA0"
      },
      "outputs": [],
      "source": [
        "import random\n",
        "from collections import defaultdict\n",
        "\n",
        "# Define sentiment labels\n",
        "def sentimiento_label(sent):\n",
        "    return \"positive\" if sent == 1 else \"negative\"\n",
        "\n",
        "# Define confidence level\n",
        "def classify_confidence(score):\n",
        "    if score >= 0.95:\n",
        "        return \"clearly\"\n",
        "    elif score >= 0.7:\n",
        "        return \"moderately\"\n",
        "    else:\n",
        "        return \"slightly\"\n",
        "\n",
        "# Group entities by tag\n",
        "def group_entities(entity_list):\n",
        "    groups = defaultdict(list)\n",
        "    for entity, tag in entity_list:\n",
        "        groups[tag].append(entity)\n",
        "    return groups\n",
        "\n",
        "# Main alert generation function\n",
        "def generate_alert(row):\n",
        "    sentiment = sentimiento_label(row[\"sentiment\"])\n",
        "    intensity = classify_confidence(row[\"sentiment_score\"])\n",
        "    text = row[\"sentence\"]\n",
        "\n",
        "    # Convert from string if needed\n",
        "    entities = clean_entities(row[\"entities\"])\n",
        "    #print(entities)\n",
        "\n",
        "    if isinstance(entities, str):\n",
        "        try:\n",
        "            entities = eval(entities)\n",
        "        except:\n",
        "            entities = []\n",
        "\n",
        "    grouped = group_entities(entities)\n",
        "\n",
        "    # Variability in phrasing\n",
        "    person_phrases = [\n",
        "        \"Mentions\",\n",
        "        \"Includes\",\n",
        "        \"Features\",\n",
        "        \"Highlights\",\n",
        "        \"Refers to\"\n",
        "    ]\n",
        "\n",
        "    org_phrases = [\n",
        "        \"Involving organizations such as\",\n",
        "        \"With the participation of\",\n",
        "        \"Featuring institutions:\"\n",
        "    ]\n",
        "    loc_phrases = [\n",
        "        \"Across regions like\",\n",
        "        \"Referencing places including\"\n",
        "    ]\n",
        "    misc_phrases = [\n",
        "        \"Including concepts like\",\n",
        "        \"With references to\",\n",
        "        \"Touching on elements like\"\n",
        "    ]\n",
        "\n",
        "    summary_parts = f\"Alert with a {intensity} {sentiment} tone.\"\n",
        "\n",
        "    # Add entities by category\n",
        "    if grouped:\n",
        "        if grouped.get(\"PER\"):\n",
        "            people_str = \", \".join(grouped[\"PER\"])\n",
        "            summary_parts += f\"{random.choice(person_phrases)} {people_str.lower()}.\"\n",
        "\n",
        "        if grouped.get(\"ORG\"):\n",
        "            orgs_str = \", \".join(grouped[\"ORG\"])\n",
        "            summary_parts += f\"{random.choice(org_phrases)} {orgs_str}.\"\n",
        "\n",
        "        if grouped.get(\"LOC\"):\n",
        "            locs_str = \", \".join(grouped[\"LOC\"])\n",
        "            summary_parts += f\"{random.choice(loc_phrases)} {locs_str}.\"\n",
        "\n",
        "        if grouped.get(\"MISC\"):\n",
        "            misc_str = \", \".join(grouped[\"MISC\"])\n",
        "            summary_parts += f\"{random.choice(misc_phrases)} {misc_str.lower()}.\"\n",
        "    else:\n",
        "        summary_parts += \"No specific entities mentioned.\"\n",
        "\n",
        "    #print(summary_parts)\n",
        "    return summary_parts\n"
      ]
    },
    {
      "cell_type": "code",
      "execution_count": null,
      "metadata": {
        "id": "c47qE-95MKLU"
      },
      "outputs": [],
      "source": [
        "for df in datasets:\n",
        "  df[\"target_text\"] = df.apply(generate_alert, axis=1)\n"
      ]
    },
    {
      "cell_type": "code",
      "execution_count": null,
      "metadata": {
        "colab": {
          "base_uri": "https://localhost:8080/"
        },
        "id": "WcbXg-v8gujZ",
        "outputId": "a9f5669f-2085-4594-83d9-ad2986a029a0"
      },
      "outputs": [
        {
          "data": {
            "text/plain": [
              "Index(['id', 'tokens', 'pos_tags', 'chunk_tags', 'ner_tags', 'sentence',\n",
              "       'sentiment', 'sentiment_score', 'entities', 'input_text',\n",
              "       'target_text'],\n",
              "      dtype='object')"
            ]
          },
          "execution_count": 17,
          "metadata": {},
          "output_type": "execute_result"
        }
      ],
      "source": [
        "#comprobamos\n",
        "datasets[0].columns\n",
        "\n"
      ]
    },
    {
      "cell_type": "code",
      "execution_count": null,
      "metadata": {
        "colab": {
          "base_uri": "https://localhost:8080/",
          "height": 53
        },
        "id": "UkyV9APkZYZH",
        "outputId": "5fe00ae9-181b-48a3-a1ae-071bf52808c9"
      },
      "outputs": [
        {
          "data": {
            "application/vnd.google.colaboratory.intrinsic+json": {
              "type": "string"
            },
            "text/plain": [
              "'Entidades: EU (ORG); German (MISC); British (MISC). Sentimiento: positive. Texto: EU rejects German call to boycott British lamb .'"
            ]
          },
          "execution_count": 18,
          "metadata": {},
          "output_type": "execute_result"
        }
      ],
      "source": [
        "datasets[0][\"input_text\"][0]"
      ]
    },
    {
      "cell_type": "code",
      "execution_count": null,
      "metadata": {
        "colab": {
          "base_uri": "https://localhost:8080/",
          "height": 53
        },
        "id": "eqyaRaOTSrOT",
        "outputId": "c37bf7cb-51b6-4d13-9612-dc9c1c4223ae"
      },
      "outputs": [
        {
          "data": {
            "application/vnd.google.colaboratory.intrinsic+json": {
              "type": "string"
            },
            "text/plain": [
              "'Alert with a clearly negative tone.Refers to loyola de palacio, fischler.Featuring institutions: EU.Including concepts like spanish.'"
            ]
          },
          "execution_count": 19,
          "metadata": {},
          "output_type": "execute_result"
        }
      ],
      "source": [
        "datasets[0][\"target_text\"][10]"
      ]
    },
    {
      "cell_type": "code",
      "execution_count": null,
      "metadata": {
        "id": "axDr49PoZuzz"
      },
      "outputs": [],
      "source": [
        "#nos quedamos solo con input text y target_text\n",
        "output_df = [df[[\"input_text\",\"target_text\"]].copy() for df in datasets]"
      ]
    },
    {
      "cell_type": "code",
      "execution_count": null,
      "metadata": {
        "colab": {
          "base_uri": "https://localhost:8080/"
        },
        "id": "GkSkM7tHWIAV",
        "outputId": "1aa546d7-ec69-4ad3-c707-0836d972b0ed"
      },
      "outputs": [
        {
          "data": {
            "text/plain": [
              "683"
            ]
          },
          "execution_count": 21,
          "metadata": {},
          "output_type": "execute_result"
        }
      ],
      "source": [
        "#maximo de inputs y outputs\n",
        "max(len(text) for text in datasets[0][\"input_text\"])"
      ]
    },
    {
      "cell_type": "code",
      "execution_count": null,
      "metadata": {
        "colab": {
          "base_uri": "https://localhost:8080/"
        },
        "id": "a59o_5gNXi05",
        "outputId": "fb0e6fd7-94bb-4154-8dd7-2fbf97da9594"
      },
      "outputs": [
        {
          "data": {
            "text/plain": [
              "322"
            ]
          },
          "execution_count": 22,
          "metadata": {},
          "output_type": "execute_result"
        }
      ],
      "source": [
        "max(len(text) for text in datasets[0][\"target_text\"])"
      ]
    },
    {
      "cell_type": "code",
      "execution_count": null,
      "metadata": {
        "id": "POMIIVlBgruS"
      },
      "outputs": [],
      "source": [
        "names = [\"train\", \"valid\",\"test\"]\n",
        "\n",
        "for df, name in zip(output_df, names):\n",
        "    df.to_csv(f\"{name}_AG.csv\", index=False)"
      ]
    },
    {
      "cell_type": "markdown",
      "metadata": {
        "id": "_l0VN9hFv7_4"
      },
      "source": [
        "# Entrenamiento modelo T5"
      ]
    },
    {
      "cell_type": "code",
      "execution_count": 8,
      "metadata": {
        "id": "_P7Crx4xanoO"
      },
      "outputs": [],
      "source": [
        "#importar los datasets que hemos creado anteriormente\n",
        "from datasets import load_dataset, Dataset\n",
        "train_path = \"/content/drive/MyDrive/ICAI/ProyectoFinal Deep+NLP/AG/train_AG.csv\"\n",
        "valid_path = \"/content/drive/MyDrive/ICAI/ProyectoFinal Deep+NLP/AG/valid_AG.csv\"\n",
        "test_path = \"/content/drive/MyDrive/ICAI/ProyectoFinal Deep+NLP/AG/test_AG.csv\"\n",
        "\n",
        "df_AGtrain = pd.read_csv(train_path)\n",
        "df_AGvalid = pd.read_csv(valid_path)\n",
        "df_AGtest = pd.read_csv(test_path)\n",
        "#reducimos para pruebas\n",
        "df_AGtrain_small = df_AGtrain.sample(frac=0.1, random_state=42)\n",
        "df_AGvalid_small = df_AGvalid.sample(frac=0.1, random_state=42)\n",
        "df_AGtest_small = df_AGtest.sample(frac=0.1, random_state=42)\n",
        "\n",
        "train_dataset = Dataset.from_pandas(df_AGtrain_small)\n",
        "valid_dataset = Dataset.from_pandas(df_AGvalid_small)\n",
        "test_dataset = Dataset.from_pandas(df_AGtest_small)"
      ]
    },
    {
      "cell_type": "code",
      "execution_count": 9,
      "metadata": {
        "id": "cPKZEcg6vzdL",
        "colab": {
          "base_uri": "https://localhost:8080/",
          "height": 385,
          "referenced_widgets": [
            "721b1286b4454f209eaa8932bedde453",
            "45b53a2473144d8b9f963907dbe03485",
            "19d61945617f4e22ad30267f51c3956a",
            "0f765bd703724a33bf8a9d2a462fb50d",
            "7bb3296a2c9d44f9a0e797ccb0c58047",
            "cd9ee39aa8144ba193eb2a47d56eb20e",
            "b0b1192446634a9caf846a666451cf7e",
            "c4f3612684454817a44fe413748fdfc1",
            "94f4f011ad3b48e686c707356b100606",
            "12f65e71927d4016b57b0049b1395fa3",
            "a0b2003f26a44ad1b587bb06788152ba",
            "a34ce358716346ef93e981cfe2c12475",
            "a5055d2d2d53440a86770c8cd1200ce5",
            "75199352d594426a83fe8829c0205be6",
            "b4a9ce81f0c84bc988926a3106c54ccb",
            "db504aaec71e4500925c65a0f3f15c68",
            "a05344bdebf64c359ac1ee5f8ac464ea",
            "3689058003ed49f19d91b1ecd8dbcc92",
            "e666588ff17f4116baa94af4b60efc0f",
            "224f4dcc388d42f6869db32879309781",
            "e2f2710ce147440f8776820d1dc14363",
            "9363d43a5ce6481e9b74eae97985a428",
            "d7a494b3026a45139a2caa49d4f1bf53",
            "432ecff4907e498ca8f254768b7ffe93",
            "69e9f23feea6425cb4b90b29b1314959",
            "bf201e4ab13d4e9c80f5f312c735f07e",
            "8cee271b047e4a449b6f3d1cb965b98b",
            "73e0b95da6844b71b556d1d5c3b6729b",
            "edf5bbd13abb4398abfdf2fbb96eb72d",
            "9f911d01f3c34419a0fd874bdbf5776a",
            "821395eb50474f0eba283089b920de27",
            "413e7ccf27574efd9e1d98397f3e986e",
            "bfc07334d9714ba2be40ee4acb417f18",
            "dc4443b43dd64d01af972dcc0b8313a4",
            "1b72ffea0d3f4dc5b35ac0d5fbaef3c9",
            "9bb5491a53a445ce99389eca24c4eaa5",
            "9ac00fc4413e47349a5cd024921a0b0c",
            "08394808a2724578bb1d0a7ad81b81f4",
            "dd777236151f4572a2987dc47784c837",
            "c5414b3967b847f296e2087a1aadcdc3",
            "98ee4fa2d1e547598922bf6fa389e7a1",
            "a992751cca4447bcbba65c043611df39",
            "ed6d2e9594ae4bef91b96b5b73a420d2",
            "e1a01c7da3994054926eac0756cc9a20",
            "5917bb5349174824a1e7dd1322111d0b",
            "7ae8d538bd754a29b3b0815fdbd6134b",
            "5dda23d5e5cc4cbda2f85746a2a8903f",
            "26a9e9baa3834a468e05d71f85af1a3a",
            "5adec37983a3481fa0a8e213050a71c5",
            "ed413fe2cf0f4ff19ac8c59d7b1aaf7b",
            "81068e94ea17461b867549d839ade25e",
            "6117697067ce4b019b27a412fd67e0ea",
            "d6ce24d02977446ab748bed404874e67",
            "205753b7d5bb4f20b243d5e1f524343f",
            "7af5793d3bc74255920abb6df183043d",
            "b875740c164242ada1ad2481ffeafada",
            "141e61f918024dcbb8f2b0260e181688",
            "79a145f1d71f49d0926935857484cdec",
            "94dcfa3293884a6e829514261e289adc",
            "bd69226f52854995b6adc8fc46682736",
            "188e326b279147bd825003aac02e3f23",
            "302b850244c24c5b925f3e073a79ef6a",
            "d5fe2e8a517d44a0b868d16f4a66dcd8",
            "b23fc1f4296144d18d0252a97bfd8765",
            "1effea2535394c57be748ea726ef8439",
            "e649aa46a6a640a596ed790db6ea2dd8"
          ]
        },
        "outputId": "68dba477-27da-410e-b1c4-768e06249c53"
      },
      "outputs": [
        {
          "output_type": "stream",
          "name": "stderr",
          "text": [
            "/usr/local/lib/python3.11/dist-packages/huggingface_hub/utils/_auth.py:94: UserWarning: \n",
            "The secret `HF_TOKEN` does not exist in your Colab secrets.\n",
            "To authenticate with the Hugging Face Hub, create a token in your settings tab (https://huggingface.co/settings/tokens), set it as secret in your Google Colab and restart your session.\n",
            "You will be able to reuse this secret in all of your notebooks.\n",
            "Please note that authentication is recommended but still optional to access public models or datasets.\n",
            "  warnings.warn(\n"
          ]
        },
        {
          "output_type": "display_data",
          "data": {
            "text/plain": [
              "tokenizer_config.json:   0%|          | 0.00/2.32k [00:00<?, ?B/s]"
            ],
            "application/vnd.jupyter.widget-view+json": {
              "version_major": 2,
              "version_minor": 0,
              "model_id": "721b1286b4454f209eaa8932bedde453"
            }
          },
          "metadata": {}
        },
        {
          "output_type": "display_data",
          "data": {
            "text/plain": [
              "spiece.model:   0%|          | 0.00/792k [00:00<?, ?B/s]"
            ],
            "application/vnd.jupyter.widget-view+json": {
              "version_major": 2,
              "version_minor": 0,
              "model_id": "a34ce358716346ef93e981cfe2c12475"
            }
          },
          "metadata": {}
        },
        {
          "output_type": "display_data",
          "data": {
            "text/plain": [
              "tokenizer.json:   0%|          | 0.00/1.39M [00:00<?, ?B/s]"
            ],
            "application/vnd.jupyter.widget-view+json": {
              "version_major": 2,
              "version_minor": 0,
              "model_id": "d7a494b3026a45139a2caa49d4f1bf53"
            }
          },
          "metadata": {}
        },
        {
          "output_type": "stream",
          "name": "stderr",
          "text": [
            "You are using the default legacy behaviour of the <class 'transformers.models.t5.tokenization_t5.T5Tokenizer'>. This is expected, and simply means that the `legacy` (previous) behavior will be used so nothing changes for you. If you want to use the new behaviour, set `legacy=False`. This should only be set if you understand what it means, and thoroughly read the reason why this was added as explained in https://github.com/huggingface/transformers/pull/24565\n"
          ]
        },
        {
          "output_type": "display_data",
          "data": {
            "text/plain": [
              "config.json:   0%|          | 0.00/1.21k [00:00<?, ?B/s]"
            ],
            "application/vnd.jupyter.widget-view+json": {
              "version_major": 2,
              "version_minor": 0,
              "model_id": "dc4443b43dd64d01af972dcc0b8313a4"
            }
          },
          "metadata": {}
        },
        {
          "output_type": "stream",
          "name": "stderr",
          "text": [
            "Xet Storage is enabled for this repo, but the 'hf_xet' package is not installed. Falling back to regular HTTP download. For better performance, install the package with: `pip install huggingface_hub[hf_xet]` or `pip install hf_xet`\n",
            "WARNING:huggingface_hub.file_download:Xet Storage is enabled for this repo, but the 'hf_xet' package is not installed. Falling back to regular HTTP download. For better performance, install the package with: `pip install huggingface_hub[hf_xet]` or `pip install hf_xet`\n"
          ]
        },
        {
          "output_type": "display_data",
          "data": {
            "text/plain": [
              "model.safetensors:   0%|          | 0.00/242M [00:00<?, ?B/s]"
            ],
            "application/vnd.jupyter.widget-view+json": {
              "version_major": 2,
              "version_minor": 0,
              "model_id": "5917bb5349174824a1e7dd1322111d0b"
            }
          },
          "metadata": {}
        },
        {
          "output_type": "display_data",
          "data": {
            "text/plain": [
              "generation_config.json:   0%|          | 0.00/147 [00:00<?, ?B/s]"
            ],
            "application/vnd.jupyter.widget-view+json": {
              "version_major": 2,
              "version_minor": 0,
              "model_id": "b875740c164242ada1ad2481ffeafada"
            }
          },
          "metadata": {}
        }
      ],
      "source": [
        "#tokenizamos para el modelo preentrenado\n",
        "from transformers import AutoTokenizer, T5Tokenizer, T5ForConditionalGeneration\n",
        "\n",
        "model_name = \"t5-small\"\n",
        "tokenizer = T5Tokenizer.from_pretrained(model_name)\n",
        "model = T5ForConditionalGeneration.from_pretrained(model_name,from_tf=False)\n",
        "\n",
        "#a ojo de nuestros datos\n",
        "max_input_len = 70\n",
        "max_target_len = 70\n",
        "\n",
        "def preprocess_function(examples):\n",
        "    inputs = tokenizer(examples[\"input_text\"], padding=\"max_length\", truncation=True, max_length=max_input_len)\n",
        "    targets = tokenizer(examples[\"target_text\"], padding=\"max_length\", truncation=True, max_length=max_target_len)\n",
        "\n",
        "    inputs[\"labels\"] = targets[\"input_ids\"] #le indicamaos exactamente cúal debe ser la salida\n",
        "    return inputs"
      ]
    },
    {
      "cell_type": "markdown",
      "metadata": {
        "id": "VoTmxzRu2sps"
      },
      "source": [
        "![image.png](data:image/png;base64,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)"
      ]
    },
    {
      "cell_type": "code",
      "execution_count": 10,
      "metadata": {
        "colab": {
          "base_uri": "https://localhost:8080/",
          "height": 86,
          "referenced_widgets": [
            "9560a87c1f0748939f8b6c93f1d65a08",
            "ad92e097a40a4cc58ba864f2c5a4e920",
            "2ffaa051b45c4c26a960ada92edac249",
            "7a70708debcf4529ad917f7d6e2718f3",
            "24bcc1bad28542b38543f1e244000c9f",
            "db2802e6dcd34908aceb958ef753b742",
            "b1679f6ee898450bac475b26863eef4e",
            "f7b1fb71ec4847f78ba650e9873ebdd1",
            "e59de0727ec44efd87d677aac53e075c",
            "cd62b92f043e4415867a3ba21aea317e",
            "5901874acc9548beb8c116b82f809dca"
          ]
        },
        "id": "6u0OmA0K0myA",
        "outputId": "e301a3c0-1e7f-4436-99fc-f3547e805082"
      },
      "outputs": [
        {
          "output_type": "display_data",
          "data": {
            "text/plain": [
              "Map:   0%|          | 0/1404 [00:00<?, ? examples/s]"
            ],
            "application/vnd.jupyter.widget-view+json": {
              "version_major": 2,
              "version_minor": 0,
              "model_id": "9560a87c1f0748939f8b6c93f1d65a08"
            }
          },
          "metadata": {}
        },
        {
          "output_type": "stream",
          "name": "stdout",
          "text": [
            "{'input_text': 'Entidades: . Sentimiento: positive. Texto: Attendance : 1,800', 'target_text': 'Alert with a clearly positive tone.No specific entities mentioned.', '__index_level_0__': 13944, 'input_ids': [4443, 15644, 15, 7, 10, 3, 5, 4892, 2998, 4741, 32, 10, 1465, 5, 5027, 32, 10, 22497, 663, 3, 10, 1914, 6192, 1, 0, 0, 0, 0, 0, 0, 0, 0, 0, 0, 0, 0, 0, 0, 0, 0, 0, 0, 0, 0, 0, 0, 0, 0, 0, 0, 0, 0, 0, 0, 0, 0, 0, 0, 0, 0, 0, 0, 0, 0, 0, 0, 0, 0, 0, 0], 'attention_mask': [1, 1, 1, 1, 1, 1, 1, 1, 1, 1, 1, 1, 1, 1, 1, 1, 1, 1, 1, 1, 1, 1, 1, 1, 0, 0, 0, 0, 0, 0, 0, 0, 0, 0, 0, 0, 0, 0, 0, 0, 0, 0, 0, 0, 0, 0, 0, 0, 0, 0, 0, 0, 0, 0, 0, 0, 0, 0, 0, 0, 0, 0, 0, 0, 0, 0, 0, 0, 0, 0], 'labels': [23951, 28, 3, 9, 3133, 1465, 5739, 5, 4168, 806, 12311, 2799, 5, 1, 0, 0, 0, 0, 0, 0, 0, 0, 0, 0, 0, 0, 0, 0, 0, 0, 0, 0, 0, 0, 0, 0, 0, 0, 0, 0, 0, 0, 0, 0, 0, 0, 0, 0, 0, 0, 0, 0, 0, 0, 0, 0, 0, 0, 0, 0, 0, 0, 0, 0, 0, 0, 0, 0, 0, 0]}\n"
          ]
        }
      ],
      "source": [
        "train_tokenized_dataset = train_dataset.map(preprocess_function)\n",
        "print(train_tokenized_dataset[0])#todo números"
      ]
    },
    {
      "cell_type": "code",
      "execution_count": 11,
      "metadata": {
        "colab": {
          "base_uri": "https://localhost:8080/",
          "height": 81,
          "referenced_widgets": [
            "3fa850771569451685edaea0ab3551ef",
            "6e3ee34148054adf860e86ea5a390f53",
            "412076dbea4c4eaf85e758443b03381e",
            "d6722d335af94eaaa7a2a2c810561608",
            "c914e1dae8484e0cb54274549750f734",
            "13a55aec29c7408987123609e5f880fe",
            "75846aaa633640dc8a9f895d18e17864",
            "913e806629c0490ca4a19e3e2c20b86f",
            "1198e7fd56a74020ab6cdb190755f828",
            "74e1c9c0ed254e64ad08ca7610eb84cf",
            "2bdaaa0647354912b21e09aa29f399b3",
            "8c8919f3b8c44da0adf7a3d315fc429c",
            "c362de63d0ef40069b91b5e710160f21",
            "c49443ba18a74de196d7f0dd91478430",
            "874075f4e52c41e18427518bcb7e07c1",
            "9ccff258c58140b5b1175c7ff8e2470a",
            "d1988fd7ea58428385920db7a206bef1",
            "665372d1e2824466be46e4e12aed6caf",
            "f2a3b8555b6045cab33f75ff9c6b44de",
            "39961d14f358408d88b1468ac0523869",
            "122cdc49114548ac90468464d708d9b1",
            "58aa403134534c9a9605337d5e0db51c"
          ]
        },
        "id": "QeSW3hne0hpb",
        "outputId": "c8352e45-10fc-4e60-deec-5b7ba9b042e6"
      },
      "outputs": [
        {
          "output_type": "display_data",
          "data": {
            "text/plain": [
              "Map:   0%|          | 0/325 [00:00<?, ? examples/s]"
            ],
            "application/vnd.jupyter.widget-view+json": {
              "version_major": 2,
              "version_minor": 0,
              "model_id": "3fa850771569451685edaea0ab3551ef"
            }
          },
          "metadata": {}
        },
        {
          "output_type": "display_data",
          "data": {
            "text/plain": [
              "Map:   0%|          | 0/345 [00:00<?, ? examples/s]"
            ],
            "application/vnd.jupyter.widget-view+json": {
              "version_major": 2,
              "version_minor": 0,
              "model_id": "8c8919f3b8c44da0adf7a3d315fc429c"
            }
          },
          "metadata": {}
        }
      ],
      "source": [
        "valid_tokenized_dataset = valid_dataset.map(preprocess_function)\n",
        "test_tokenized_dataset = test_dataset.map(preprocess_function)"
      ]
    },
    {
      "cell_type": "code",
      "execution_count": 12,
      "metadata": {
        "id": "czx1nkJuYiff"
      },
      "outputs": [],
      "source": [
        "#data collator\n",
        "from transformers import DataCollatorForSeq2Seq\n",
        "data_collator = DataCollatorForSeq2Seq(tokenizer, model=model)"
      ]
    },
    {
      "cell_type": "code",
      "execution_count": 13,
      "metadata": {
        "colab": {
          "base_uri": "https://localhost:8080/"
        },
        "id": "2s18K8VOxFps",
        "outputId": "c2764137-5779-47a5-a954-c2ac26f5d718"
      },
      "outputs": [
        {
          "output_type": "stream",
          "name": "stderr",
          "text": [
            "/usr/local/lib/python3.11/dist-packages/transformers/training_args.py:1611: FutureWarning: `evaluation_strategy` is deprecated and will be removed in version 4.46 of 🤗 Transformers. Use `eval_strategy` instead\n",
            "  warnings.warn(\n"
          ]
        }
      ],
      "source": [
        "from transformers import AutoModelForSeq2SeqLM, Seq2SeqTrainingArguments, Seq2SeqTrainer\n",
        "# argumentos a tocar con el modelo\n",
        "training_args = Seq2SeqTrainingArguments(\n",
        "    output_dir=\"./t5-alerts-model\",\n",
        "    evaluation_strategy=\"epoch\",\n",
        "    learning_rate=2e-4,\n",
        "    per_device_train_batch_size=16,\n",
        "    per_device_eval_batch_size=16,\n",
        "    weight_decay=0.01,\n",
        "    save_total_limit=2,\n",
        "    num_train_epochs=10,\n",
        "    predict_with_generate=True,\n",
        "    logging_dir=\"./logs\",\n",
        "    logging_steps=10,\n",
        "    save_strategy=\"epoch\",\n",
        "    report_to=\"none\",\n",
        ")"
      ]
    },
    {
      "cell_type": "code",
      "execution_count": 16,
      "metadata": {
        "id": "KNsmuNDKZYme"
      },
      "outputs": [],
      "source": [
        "#from datasets import load_metric\n",
        "\n",
        "import evaluate\n",
        "import numpy as np\n",
        "\n",
        "# Cargar el métrico ROUGE una vez\n",
        "rouge_metric = evaluate.load(\"rouge\")\n",
        "\n",
        "def compute_metrics(eval_pred):\n",
        "    predictions, labels = eval_pred\n",
        "\n",
        "    # Decodificar outputs\n",
        "    decoded_preds = tokenizer.batch_decode(predictions, skip_special_tokens=True)\n",
        "\n",
        "    # Reemplazar -100 por el token de padding para poder decodificar etiquetas\n",
        "    labels = np.where(labels != -100, labels, tokenizer.pad_token_id)\n",
        "    decoded_labels = tokenizer.batch_decode(labels, skip_special_tokens=True)\n",
        "\n",
        "    # Calcular ROUGE\n",
        "    result = rouge_metric.compute(\n",
        "        predictions=decoded_preds,\n",
        "        references=decoded_labels,\n",
        "        use_stemmer=True\n",
        "    )\n",
        "\n",
        "    # Extraer solo ROUGE-1 y ROUGE-L (F1 score)\n",
        "    final_scores = {\n",
        "    \"rouge1\": round(result[\"rouge1\"] * 100, 2),\n",
        "    \"rougeL\": round(result[\"rougeL\"] * 100, 2)\n",
        "  }\n",
        "\n",
        "    return final_scores"
      ]
    },
    {
      "cell_type": "code",
      "execution_count": 17,
      "metadata": {
        "colab": {
          "base_uri": "https://localhost:8080/",
          "height": 513
        },
        "id": "QedEmg6sxPE3",
        "outputId": "1ccb1fbf-0149-4d1d-a9b1-df5a20a6aa29"
      },
      "outputs": [
        {
          "output_type": "stream",
          "name": "stderr",
          "text": [
            "<ipython-input-17-23ee8473fbeb>:4: FutureWarning: `tokenizer` is deprecated and will be removed in version 5.0.0 for `Seq2SeqTrainer.__init__`. Use `processing_class` instead.\n",
            "  trainer = Seq2SeqTrainer(\n"
          ]
        },
        {
          "output_type": "display_data",
          "data": {
            "text/plain": [
              "<IPython.core.display.HTML object>"
            ],
            "text/html": [
              "\n",
              "    <div>\n",
              "      \n",
              "      <progress value='880' max='880' style='width:300px; height:20px; vertical-align: middle;'></progress>\n",
              "      [880/880 05:19, Epoch 10/10]\n",
              "    </div>\n",
              "    <table border=\"1\" class=\"dataframe\">\n",
              "  <thead>\n",
              " <tr style=\"text-align: left;\">\n",
              "      <th>Epoch</th>\n",
              "      <th>Training Loss</th>\n",
              "      <th>Validation Loss</th>\n",
              "      <th>Rouge1</th>\n",
              "      <th>Rougel</th>\n",
              "    </tr>\n",
              "  </thead>\n",
              "  <tbody>\n",
              "    <tr>\n",
              "      <td>1</td>\n",
              "      <td>0.116200</td>\n",
              "      <td>0.130521</td>\n",
              "      <td>76.190000</td>\n",
              "      <td>75.260000</td>\n",
              "    </tr>\n",
              "    <tr>\n",
              "      <td>2</td>\n",
              "      <td>0.118700</td>\n",
              "      <td>0.110090</td>\n",
              "      <td>75.130000</td>\n",
              "      <td>74.580000</td>\n",
              "    </tr>\n",
              "    <tr>\n",
              "      <td>3</td>\n",
              "      <td>0.097200</td>\n",
              "      <td>0.097662</td>\n",
              "      <td>76.830000</td>\n",
              "      <td>76.230000</td>\n",
              "    </tr>\n",
              "    <tr>\n",
              "      <td>4</td>\n",
              "      <td>0.086600</td>\n",
              "      <td>0.090142</td>\n",
              "      <td>77.420000</td>\n",
              "      <td>77.070000</td>\n",
              "    </tr>\n",
              "    <tr>\n",
              "      <td>5</td>\n",
              "      <td>0.070100</td>\n",
              "      <td>0.087722</td>\n",
              "      <td>76.390000</td>\n",
              "      <td>76.070000</td>\n",
              "    </tr>\n",
              "    <tr>\n",
              "      <td>6</td>\n",
              "      <td>0.071900</td>\n",
              "      <td>0.083609</td>\n",
              "      <td>75.650000</td>\n",
              "      <td>75.450000</td>\n",
              "    </tr>\n",
              "    <tr>\n",
              "      <td>7</td>\n",
              "      <td>0.071100</td>\n",
              "      <td>0.083395</td>\n",
              "      <td>76.980000</td>\n",
              "      <td>76.810000</td>\n",
              "    </tr>\n",
              "    <tr>\n",
              "      <td>8</td>\n",
              "      <td>0.062700</td>\n",
              "      <td>0.083561</td>\n",
              "      <td>77.470000</td>\n",
              "      <td>77.150000</td>\n",
              "    </tr>\n",
              "    <tr>\n",
              "      <td>9</td>\n",
              "      <td>0.058900</td>\n",
              "      <td>0.081837</td>\n",
              "      <td>77.130000</td>\n",
              "      <td>76.880000</td>\n",
              "    </tr>\n",
              "    <tr>\n",
              "      <td>10</td>\n",
              "      <td>0.062100</td>\n",
              "      <td>0.082014</td>\n",
              "      <td>77.280000</td>\n",
              "      <td>77.050000</td>\n",
              "    </tr>\n",
              "  </tbody>\n",
              "</table><p>"
            ]
          },
          "metadata": {}
        },
        {
          "output_type": "execute_result",
          "data": {
            "text/plain": [
              "TrainOutput(global_step=880, training_loss=0.08443753726103088, metrics={'train_runtime': 319.8948, 'train_samples_per_second': 43.889, 'train_steps_per_second': 2.751, 'total_flos': 259792817356800.0, 'train_loss': 0.08443753726103088, 'epoch': 10.0})"
            ]
          },
          "metadata": {},
          "execution_count": 17
        }
      ],
      "source": [
        "\n",
        "\n",
        "#import os\n",
        "#os.environ[\"WANDB_DISABLED\"] = \"true\" #para que no nos pida loggearnos en una web extraña\n",
        "#entrenamos\n",
        "trainer = Seq2SeqTrainer(\n",
        "    model=model,\n",
        "    args=training_args,\n",
        "    train_dataset=train_tokenized_dataset,\n",
        "    eval_dataset=valid_tokenized_dataset,\n",
        "    tokenizer=tokenizer,\n",
        "    data_collator=data_collator,\n",
        "    compute_metrics=compute_metrics,\n",
        ")\n",
        "\n",
        "trainer.train()"
      ]
    },
    {
      "cell_type": "code",
      "execution_count": 18,
      "metadata": {
        "id": "maD2_o905vHu",
        "colab": {
          "base_uri": "https://localhost:8080/",
          "height": 158
        },
        "outputId": "66f68f95-1915-4057-a0d0-7439623f8322"
      },
      "outputs": [
        {
          "output_type": "display_data",
          "data": {
            "text/plain": [
              "<IPython.core.display.HTML object>"
            ],
            "text/html": [
              "\n",
              "    <div>\n",
              "      \n",
              "      <progress value='88' max='88' style='width:300px; height:20px; vertical-align: middle;'></progress>\n",
              "      [88/88 00:23]\n",
              "    </div>\n",
              "    "
            ]
          },
          "metadata": {}
        },
        {
          "output_type": "execute_result",
          "data": {
            "text/plain": [
              "{'eval_loss': 0.040559981018304825,\n",
              " 'eval_rouge1': 79.61,\n",
              " 'eval_rougeL': 79.48,\n",
              " 'eval_runtime': 36.5537,\n",
              " 'eval_samples_per_second': 38.409,\n",
              " 'eval_steps_per_second': 2.407,\n",
              " 'epoch': 10.0}"
            ]
          },
          "metadata": {},
          "execution_count": 18
        }
      ],
      "source": [
        "#evaluamos el modelo\n",
        "trainer.evaluate(train_tokenized_dataset)"
      ]
    },
    {
      "cell_type": "code",
      "execution_count": 19,
      "metadata": {
        "id": "VQwv51VU5zRZ",
        "colab": {
          "base_uri": "https://localhost:8080/",
          "height": 158
        },
        "outputId": "63cae9af-128d-43dd-9ea2-9f551fc7842a"
      },
      "outputs": [
        {
          "output_type": "display_data",
          "data": {
            "text/plain": [
              "<IPython.core.display.HTML object>"
            ],
            "text/html": [
              "\n",
              "    <div>\n",
              "      \n",
              "      <progress value='109' max='88' style='width:300px; height:20px; vertical-align: middle;'></progress>\n",
              "      [88/88 00:47]\n",
              "    </div>\n",
              "    "
            ]
          },
          "metadata": {}
        },
        {
          "output_type": "execute_result",
          "data": {
            "text/plain": [
              "{'eval_loss': 0.08201374113559723,\n",
              " 'eval_rouge1': 77.28,\n",
              " 'eval_rougeL': 77.05,\n",
              " 'eval_runtime': 8.5793,\n",
              " 'eval_samples_per_second': 37.882,\n",
              " 'eval_steps_per_second': 2.448,\n",
              " 'epoch': 10.0}"
            ]
          },
          "metadata": {},
          "execution_count": 19
        }
      ],
      "source": [
        "trainer.evaluate(valid_tokenized_dataset)"
      ]
    },
    {
      "cell_type": "code",
      "source": [
        "trainer.evaluate(test_tokenized_dataset)"
      ],
      "metadata": {
        "colab": {
          "base_uri": "https://localhost:8080/",
          "height": 158
        },
        "id": "ZsuCcABeP3-u",
        "outputId": "4935577b-b64e-4ef4-84b9-5efb5fca865c"
      },
      "execution_count": 20,
      "outputs": [
        {
          "output_type": "display_data",
          "data": {
            "text/plain": [
              "<IPython.core.display.HTML object>"
            ],
            "text/html": [
              "\n",
              "    <div>\n",
              "      \n",
              "      <progress value='131' max='88' style='width:300px; height:20px; vertical-align: middle;'></progress>\n",
              "      [88/88 00:56]\n",
              "    </div>\n",
              "    "
            ]
          },
          "metadata": {}
        },
        {
          "output_type": "execute_result",
          "data": {
            "text/plain": [
              "{'eval_loss': 0.06812108308076859,\n",
              " 'eval_rouge1': 79.62,\n",
              " 'eval_rougeL': 79.52,\n",
              " 'eval_runtime': 9.6279,\n",
              " 'eval_samples_per_second': 35.833,\n",
              " 'eval_steps_per_second': 2.285,\n",
              " 'epoch': 10.0}"
            ]
          },
          "metadata": {},
          "execution_count": 20
        }
      ]
    },
    {
      "cell_type": "code",
      "source": [
        "import torch\n",
        "predictions = []\n",
        "references = []\n",
        "\n",
        "for example in test_tokenized_dataset:\n",
        "    input_ids =  torch.tensor([example[\"input_ids\"]]).to(model.device)\n",
        "\n",
        "    # Generar\n",
        "    output_ids = model.generate(input_ids=input_ids, max_length=70, num_beams=4, early_stopping=True)\n",
        "    pred = tokenizer.decode(output_ids[0], skip_special_tokens=True)\n",
        "\n",
        "    predictions.append(pred)\n",
        "    references.append(example[\"target_text\"])\n"
      ],
      "metadata": {
        "colab": {
          "base_uri": "https://localhost:8080/",
          "height": 211
        },
        "id": "sNI8xbPRQS36",
        "outputId": "dc90189b-f0c5-4b93-c18d-6d7d0f36c2e1"
      },
      "execution_count": 24,
      "outputs": [
        {
          "output_type": "error",
          "ename": "NameError",
          "evalue": "name 'df_test' is not defined",
          "traceback": [
            "\u001b[0;31m---------------------------------------------------------------------------\u001b[0m",
            "\u001b[0;31mNameError\u001b[0m                                 Traceback (most recent call last)",
            "\u001b[0;32m<ipython-input-24-165738889820>\u001b[0m in \u001b[0;36m<cell line: 0>\u001b[0;34m()\u001b[0m\n\u001b[1;32m     15\u001b[0m \u001b[0;31m# 5. Guardar como CSV\u001b[0m\u001b[0;34m\u001b[0m\u001b[0;34m\u001b[0m\u001b[0m\n\u001b[1;32m     16\u001b[0m df_out = pd.DataFrame({\n\u001b[0;32m---> 17\u001b[0;31m     \u001b[0;34m\"input_text\"\u001b[0m\u001b[0;34m:\u001b[0m \u001b[0mdf_test\u001b[0m\u001b[0;34m[\u001b[0m\u001b[0;34m\"input_text\"\u001b[0m\u001b[0;34m]\u001b[0m\u001b[0;34m,\u001b[0m\u001b[0;34m\u001b[0m\u001b[0;34m\u001b[0m\u001b[0m\n\u001b[0m\u001b[1;32m     18\u001b[0m     \u001b[0;34m\"prediction\"\u001b[0m\u001b[0;34m:\u001b[0m \u001b[0mpredictions\u001b[0m\u001b[0;34m,\u001b[0m\u001b[0;34m\u001b[0m\u001b[0;34m\u001b[0m\u001b[0m\n\u001b[1;32m     19\u001b[0m     \u001b[0;34m\"reference\"\u001b[0m\u001b[0;34m:\u001b[0m \u001b[0mreferences\u001b[0m\u001b[0;34m\u001b[0m\u001b[0;34m\u001b[0m\u001b[0m\n",
            "\u001b[0;31mNameError\u001b[0m: name 'df_test' is not defined"
          ]
        }
      ]
    },
    {
      "cell_type": "code",
      "source": [
        "\n",
        "df_out = pd.DataFrame({\n",
        "    \"input_text\": df_AGtest_small[\"input_text\"],\n",
        "    \"prediction\": predictions,\n",
        "    \"reference\": references\n",
        "})\n",
        "\n",
        "df_out.to_csv(\"predictions_test.csv\", index=False)"
      ],
      "metadata": {
        "id": "Q__BSdlfSftc"
      },
      "execution_count": 25,
      "outputs": []
    }
  ],
  "metadata": {
    "accelerator": "GPU",
    "colab": {
      "gpuType": "T4",
      "provenance": []
    },
    "kernelspec": {
      "display_name": "Python 3",
      "name": "python3"
    },
    "language_info": {
      "name": "python"
    },
    "widgets": {
      "application/vnd.jupyter.widget-state+json": {
        "721b1286b4454f209eaa8932bedde453": {
          "model_module": "@jupyter-widgets/controls",
          "model_name": "HBoxModel",
          "model_module_version": "1.5.0",
          "state": {
            "_dom_classes": [],
            "_model_module": "@jupyter-widgets/controls",
            "_model_module_version": "1.5.0",
            "_model_name": "HBoxModel",
            "_view_count": null,
            "_view_module": "@jupyter-widgets/controls",
            "_view_module_version": "1.5.0",
            "_view_name": "HBoxView",
            "box_style": "",
            "children": [
              "IPY_MODEL_45b53a2473144d8b9f963907dbe03485",
              "IPY_MODEL_19d61945617f4e22ad30267f51c3956a",
              "IPY_MODEL_0f765bd703724a33bf8a9d2a462fb50d"
            ],
            "layout": "IPY_MODEL_7bb3296a2c9d44f9a0e797ccb0c58047"
          }
        },
        "45b53a2473144d8b9f963907dbe03485": {
          "model_module": "@jupyter-widgets/controls",
          "model_name": "HTMLModel",
          "model_module_version": "1.5.0",
          "state": {
            "_dom_classes": [],
            "_model_module": "@jupyter-widgets/controls",
            "_model_module_version": "1.5.0",
            "_model_name": "HTMLModel",
            "_view_count": null,
            "_view_module": "@jupyter-widgets/controls",
            "_view_module_version": "1.5.0",
            "_view_name": "HTMLView",
            "description": "",
            "description_tooltip": null,
            "layout": "IPY_MODEL_cd9ee39aa8144ba193eb2a47d56eb20e",
            "placeholder": "​",
            "style": "IPY_MODEL_b0b1192446634a9caf846a666451cf7e",
            "value": "tokenizer_config.json: 100%"
          }
        },
        "19d61945617f4e22ad30267f51c3956a": {
          "model_module": "@jupyter-widgets/controls",
          "model_name": "FloatProgressModel",
          "model_module_version": "1.5.0",
          "state": {
            "_dom_classes": [],
            "_model_module": "@jupyter-widgets/controls",
            "_model_module_version": "1.5.0",
            "_model_name": "FloatProgressModel",
            "_view_count": null,
            "_view_module": "@jupyter-widgets/controls",
            "_view_module_version": "1.5.0",
            "_view_name": "ProgressView",
            "bar_style": "success",
            "description": "",
            "description_tooltip": null,
            "layout": "IPY_MODEL_c4f3612684454817a44fe413748fdfc1",
            "max": 2324,
            "min": 0,
            "orientation": "horizontal",
            "style": "IPY_MODEL_94f4f011ad3b48e686c707356b100606",
            "value": 2324
          }
        },
        "0f765bd703724a33bf8a9d2a462fb50d": {
          "model_module": "@jupyter-widgets/controls",
          "model_name": "HTMLModel",
          "model_module_version": "1.5.0",
          "state": {
            "_dom_classes": [],
            "_model_module": "@jupyter-widgets/controls",
            "_model_module_version": "1.5.0",
            "_model_name": "HTMLModel",
            "_view_count": null,
            "_view_module": "@jupyter-widgets/controls",
            "_view_module_version": "1.5.0",
            "_view_name": "HTMLView",
            "description": "",
            "description_tooltip": null,
            "layout": "IPY_MODEL_12f65e71927d4016b57b0049b1395fa3",
            "placeholder": "​",
            "style": "IPY_MODEL_a0b2003f26a44ad1b587bb06788152ba",
            "value": " 2.32k/2.32k [00:00&lt;00:00, 170kB/s]"
          }
        },
        "7bb3296a2c9d44f9a0e797ccb0c58047": {
          "model_module": "@jupyter-widgets/base",
          "model_name": "LayoutModel",
          "model_module_version": "1.2.0",
          "state": {
            "_model_module": "@jupyter-widgets/base",
            "_model_module_version": "1.2.0",
            "_model_name": "LayoutModel",
            "_view_count": null,
            "_view_module": "@jupyter-widgets/base",
            "_view_module_version": "1.2.0",
            "_view_name": "LayoutView",
            "align_content": null,
            "align_items": null,
            "align_self": null,
            "border": null,
            "bottom": null,
            "display": null,
            "flex": null,
            "flex_flow": null,
            "grid_area": null,
            "grid_auto_columns": null,
            "grid_auto_flow": null,
            "grid_auto_rows": null,
            "grid_column": null,
            "grid_gap": null,
            "grid_row": null,
            "grid_template_areas": null,
            "grid_template_columns": null,
            "grid_template_rows": null,
            "height": null,
            "justify_content": null,
            "justify_items": null,
            "left": null,
            "margin": null,
            "max_height": null,
            "max_width": null,
            "min_height": null,
            "min_width": null,
            "object_fit": null,
            "object_position": null,
            "order": null,
            "overflow": null,
            "overflow_x": null,
            "overflow_y": null,
            "padding": null,
            "right": null,
            "top": null,
            "visibility": null,
            "width": null
          }
        },
        "cd9ee39aa8144ba193eb2a47d56eb20e": {
          "model_module": "@jupyter-widgets/base",
          "model_name": "LayoutModel",
          "model_module_version": "1.2.0",
          "state": {
            "_model_module": "@jupyter-widgets/base",
            "_model_module_version": "1.2.0",
            "_model_name": "LayoutModel",
            "_view_count": null,
            "_view_module": "@jupyter-widgets/base",
            "_view_module_version": "1.2.0",
            "_view_name": "LayoutView",
            "align_content": null,
            "align_items": null,
            "align_self": null,
            "border": null,
            "bottom": null,
            "display": null,
            "flex": null,
            "flex_flow": null,
            "grid_area": null,
            "grid_auto_columns": null,
            "grid_auto_flow": null,
            "grid_auto_rows": null,
            "grid_column": null,
            "grid_gap": null,
            "grid_row": null,
            "grid_template_areas": null,
            "grid_template_columns": null,
            "grid_template_rows": null,
            "height": null,
            "justify_content": null,
            "justify_items": null,
            "left": null,
            "margin": null,
            "max_height": null,
            "max_width": null,
            "min_height": null,
            "min_width": null,
            "object_fit": null,
            "object_position": null,
            "order": null,
            "overflow": null,
            "overflow_x": null,
            "overflow_y": null,
            "padding": null,
            "right": null,
            "top": null,
            "visibility": null,
            "width": null
          }
        },
        "b0b1192446634a9caf846a666451cf7e": {
          "model_module": "@jupyter-widgets/controls",
          "model_name": "DescriptionStyleModel",
          "model_module_version": "1.5.0",
          "state": {
            "_model_module": "@jupyter-widgets/controls",
            "_model_module_version": "1.5.0",
            "_model_name": "DescriptionStyleModel",
            "_view_count": null,
            "_view_module": "@jupyter-widgets/base",
            "_view_module_version": "1.2.0",
            "_view_name": "StyleView",
            "description_width": ""
          }
        },
        "c4f3612684454817a44fe413748fdfc1": {
          "model_module": "@jupyter-widgets/base",
          "model_name": "LayoutModel",
          "model_module_version": "1.2.0",
          "state": {
            "_model_module": "@jupyter-widgets/base",
            "_model_module_version": "1.2.0",
            "_model_name": "LayoutModel",
            "_view_count": null,
            "_view_module": "@jupyter-widgets/base",
            "_view_module_version": "1.2.0",
            "_view_name": "LayoutView",
            "align_content": null,
            "align_items": null,
            "align_self": null,
            "border": null,
            "bottom": null,
            "display": null,
            "flex": null,
            "flex_flow": null,
            "grid_area": null,
            "grid_auto_columns": null,
            "grid_auto_flow": null,
            "grid_auto_rows": null,
            "grid_column": null,
            "grid_gap": null,
            "grid_row": null,
            "grid_template_areas": null,
            "grid_template_columns": null,
            "grid_template_rows": null,
            "height": null,
            "justify_content": null,
            "justify_items": null,
            "left": null,
            "margin": null,
            "max_height": null,
            "max_width": null,
            "min_height": null,
            "min_width": null,
            "object_fit": null,
            "object_position": null,
            "order": null,
            "overflow": null,
            "overflow_x": null,
            "overflow_y": null,
            "padding": null,
            "right": null,
            "top": null,
            "visibility": null,
            "width": null
          }
        },
        "94f4f011ad3b48e686c707356b100606": {
          "model_module": "@jupyter-widgets/controls",
          "model_name": "ProgressStyleModel",
          "model_module_version": "1.5.0",
          "state": {
            "_model_module": "@jupyter-widgets/controls",
            "_model_module_version": "1.5.0",
            "_model_name": "ProgressStyleModel",
            "_view_count": null,
            "_view_module": "@jupyter-widgets/base",
            "_view_module_version": "1.2.0",
            "_view_name": "StyleView",
            "bar_color": null,
            "description_width": ""
          }
        },
        "12f65e71927d4016b57b0049b1395fa3": {
          "model_module": "@jupyter-widgets/base",
          "model_name": "LayoutModel",
          "model_module_version": "1.2.0",
          "state": {
            "_model_module": "@jupyter-widgets/base",
            "_model_module_version": "1.2.0",
            "_model_name": "LayoutModel",
            "_view_count": null,
            "_view_module": "@jupyter-widgets/base",
            "_view_module_version": "1.2.0",
            "_view_name": "LayoutView",
            "align_content": null,
            "align_items": null,
            "align_self": null,
            "border": null,
            "bottom": null,
            "display": null,
            "flex": null,
            "flex_flow": null,
            "grid_area": null,
            "grid_auto_columns": null,
            "grid_auto_flow": null,
            "grid_auto_rows": null,
            "grid_column": null,
            "grid_gap": null,
            "grid_row": null,
            "grid_template_areas": null,
            "grid_template_columns": null,
            "grid_template_rows": null,
            "height": null,
            "justify_content": null,
            "justify_items": null,
            "left": null,
            "margin": null,
            "max_height": null,
            "max_width": null,
            "min_height": null,
            "min_width": null,
            "object_fit": null,
            "object_position": null,
            "order": null,
            "overflow": null,
            "overflow_x": null,
            "overflow_y": null,
            "padding": null,
            "right": null,
            "top": null,
            "visibility": null,
            "width": null
          }
        },
        "a0b2003f26a44ad1b587bb06788152ba": {
          "model_module": "@jupyter-widgets/controls",
          "model_name": "DescriptionStyleModel",
          "model_module_version": "1.5.0",
          "state": {
            "_model_module": "@jupyter-widgets/controls",
            "_model_module_version": "1.5.0",
            "_model_name": "DescriptionStyleModel",
            "_view_count": null,
            "_view_module": "@jupyter-widgets/base",
            "_view_module_version": "1.2.0",
            "_view_name": "StyleView",
            "description_width": ""
          }
        },
        "a34ce358716346ef93e981cfe2c12475": {
          "model_module": "@jupyter-widgets/controls",
          "model_name": "HBoxModel",
          "model_module_version": "1.5.0",
          "state": {
            "_dom_classes": [],
            "_model_module": "@jupyter-widgets/controls",
            "_model_module_version": "1.5.0",
            "_model_name": "HBoxModel",
            "_view_count": null,
            "_view_module": "@jupyter-widgets/controls",
            "_view_module_version": "1.5.0",
            "_view_name": "HBoxView",
            "box_style": "",
            "children": [
              "IPY_MODEL_a5055d2d2d53440a86770c8cd1200ce5",
              "IPY_MODEL_75199352d594426a83fe8829c0205be6",
              "IPY_MODEL_b4a9ce81f0c84bc988926a3106c54ccb"
            ],
            "layout": "IPY_MODEL_db504aaec71e4500925c65a0f3f15c68"
          }
        },
        "a5055d2d2d53440a86770c8cd1200ce5": {
          "model_module": "@jupyter-widgets/controls",
          "model_name": "HTMLModel",
          "model_module_version": "1.5.0",
          "state": {
            "_dom_classes": [],
            "_model_module": "@jupyter-widgets/controls",
            "_model_module_version": "1.5.0",
            "_model_name": "HTMLModel",
            "_view_count": null,
            "_view_module": "@jupyter-widgets/controls",
            "_view_module_version": "1.5.0",
            "_view_name": "HTMLView",
            "description": "",
            "description_tooltip": null,
            "layout": "IPY_MODEL_a05344bdebf64c359ac1ee5f8ac464ea",
            "placeholder": "​",
            "style": "IPY_MODEL_3689058003ed49f19d91b1ecd8dbcc92",
            "value": "spiece.model: 100%"
          }
        },
        "75199352d594426a83fe8829c0205be6": {
          "model_module": "@jupyter-widgets/controls",
          "model_name": "FloatProgressModel",
          "model_module_version": "1.5.0",
          "state": {
            "_dom_classes": [],
            "_model_module": "@jupyter-widgets/controls",
            "_model_module_version": "1.5.0",
            "_model_name": "FloatProgressModel",
            "_view_count": null,
            "_view_module": "@jupyter-widgets/controls",
            "_view_module_version": "1.5.0",
            "_view_name": "ProgressView",
            "bar_style": "success",
            "description": "",
            "description_tooltip": null,
            "layout": "IPY_MODEL_e666588ff17f4116baa94af4b60efc0f",
            "max": 791656,
            "min": 0,
            "orientation": "horizontal",
            "style": "IPY_MODEL_224f4dcc388d42f6869db32879309781",
            "value": 791656
          }
        },
        "b4a9ce81f0c84bc988926a3106c54ccb": {
          "model_module": "@jupyter-widgets/controls",
          "model_name": "HTMLModel",
          "model_module_version": "1.5.0",
          "state": {
            "_dom_classes": [],
            "_model_module": "@jupyter-widgets/controls",
            "_model_module_version": "1.5.0",
            "_model_name": "HTMLModel",
            "_view_count": null,
            "_view_module": "@jupyter-widgets/controls",
            "_view_module_version": "1.5.0",
            "_view_name": "HTMLView",
            "description": "",
            "description_tooltip": null,
            "layout": "IPY_MODEL_e2f2710ce147440f8776820d1dc14363",
            "placeholder": "​",
            "style": "IPY_MODEL_9363d43a5ce6481e9b74eae97985a428",
            "value": " 792k/792k [00:00&lt;00:00, 10.8MB/s]"
          }
        },
        "db504aaec71e4500925c65a0f3f15c68": {
          "model_module": "@jupyter-widgets/base",
          "model_name": "LayoutModel",
          "model_module_version": "1.2.0",
          "state": {
            "_model_module": "@jupyter-widgets/base",
            "_model_module_version": "1.2.0",
            "_model_name": "LayoutModel",
            "_view_count": null,
            "_view_module": "@jupyter-widgets/base",
            "_view_module_version": "1.2.0",
            "_view_name": "LayoutView",
            "align_content": null,
            "align_items": null,
            "align_self": null,
            "border": null,
            "bottom": null,
            "display": null,
            "flex": null,
            "flex_flow": null,
            "grid_area": null,
            "grid_auto_columns": null,
            "grid_auto_flow": null,
            "grid_auto_rows": null,
            "grid_column": null,
            "grid_gap": null,
            "grid_row": null,
            "grid_template_areas": null,
            "grid_template_columns": null,
            "grid_template_rows": null,
            "height": null,
            "justify_content": null,
            "justify_items": null,
            "left": null,
            "margin": null,
            "max_height": null,
            "max_width": null,
            "min_height": null,
            "min_width": null,
            "object_fit": null,
            "object_position": null,
            "order": null,
            "overflow": null,
            "overflow_x": null,
            "overflow_y": null,
            "padding": null,
            "right": null,
            "top": null,
            "visibility": null,
            "width": null
          }
        },
        "a05344bdebf64c359ac1ee5f8ac464ea": {
          "model_module": "@jupyter-widgets/base",
          "model_name": "LayoutModel",
          "model_module_version": "1.2.0",
          "state": {
            "_model_module": "@jupyter-widgets/base",
            "_model_module_version": "1.2.0",
            "_model_name": "LayoutModel",
            "_view_count": null,
            "_view_module": "@jupyter-widgets/base",
            "_view_module_version": "1.2.0",
            "_view_name": "LayoutView",
            "align_content": null,
            "align_items": null,
            "align_self": null,
            "border": null,
            "bottom": null,
            "display": null,
            "flex": null,
            "flex_flow": null,
            "grid_area": null,
            "grid_auto_columns": null,
            "grid_auto_flow": null,
            "grid_auto_rows": null,
            "grid_column": null,
            "grid_gap": null,
            "grid_row": null,
            "grid_template_areas": null,
            "grid_template_columns": null,
            "grid_template_rows": null,
            "height": null,
            "justify_content": null,
            "justify_items": null,
            "left": null,
            "margin": null,
            "max_height": null,
            "max_width": null,
            "min_height": null,
            "min_width": null,
            "object_fit": null,
            "object_position": null,
            "order": null,
            "overflow": null,
            "overflow_x": null,
            "overflow_y": null,
            "padding": null,
            "right": null,
            "top": null,
            "visibility": null,
            "width": null
          }
        },
        "3689058003ed49f19d91b1ecd8dbcc92": {
          "model_module": "@jupyter-widgets/controls",
          "model_name": "DescriptionStyleModel",
          "model_module_version": "1.5.0",
          "state": {
            "_model_module": "@jupyter-widgets/controls",
            "_model_module_version": "1.5.0",
            "_model_name": "DescriptionStyleModel",
            "_view_count": null,
            "_view_module": "@jupyter-widgets/base",
            "_view_module_version": "1.2.0",
            "_view_name": "StyleView",
            "description_width": ""
          }
        },
        "e666588ff17f4116baa94af4b60efc0f": {
          "model_module": "@jupyter-widgets/base",
          "model_name": "LayoutModel",
          "model_module_version": "1.2.0",
          "state": {
            "_model_module": "@jupyter-widgets/base",
            "_model_module_version": "1.2.0",
            "_model_name": "LayoutModel",
            "_view_count": null,
            "_view_module": "@jupyter-widgets/base",
            "_view_module_version": "1.2.0",
            "_view_name": "LayoutView",
            "align_content": null,
            "align_items": null,
            "align_self": null,
            "border": null,
            "bottom": null,
            "display": null,
            "flex": null,
            "flex_flow": null,
            "grid_area": null,
            "grid_auto_columns": null,
            "grid_auto_flow": null,
            "grid_auto_rows": null,
            "grid_column": null,
            "grid_gap": null,
            "grid_row": null,
            "grid_template_areas": null,
            "grid_template_columns": null,
            "grid_template_rows": null,
            "height": null,
            "justify_content": null,
            "justify_items": null,
            "left": null,
            "margin": null,
            "max_height": null,
            "max_width": null,
            "min_height": null,
            "min_width": null,
            "object_fit": null,
            "object_position": null,
            "order": null,
            "overflow": null,
            "overflow_x": null,
            "overflow_y": null,
            "padding": null,
            "right": null,
            "top": null,
            "visibility": null,
            "width": null
          }
        },
        "224f4dcc388d42f6869db32879309781": {
          "model_module": "@jupyter-widgets/controls",
          "model_name": "ProgressStyleModel",
          "model_module_version": "1.5.0",
          "state": {
            "_model_module": "@jupyter-widgets/controls",
            "_model_module_version": "1.5.0",
            "_model_name": "ProgressStyleModel",
            "_view_count": null,
            "_view_module": "@jupyter-widgets/base",
            "_view_module_version": "1.2.0",
            "_view_name": "StyleView",
            "bar_color": null,
            "description_width": ""
          }
        },
        "e2f2710ce147440f8776820d1dc14363": {
          "model_module": "@jupyter-widgets/base",
          "model_name": "LayoutModel",
          "model_module_version": "1.2.0",
          "state": {
            "_model_module": "@jupyter-widgets/base",
            "_model_module_version": "1.2.0",
            "_model_name": "LayoutModel",
            "_view_count": null,
            "_view_module": "@jupyter-widgets/base",
            "_view_module_version": "1.2.0",
            "_view_name": "LayoutView",
            "align_content": null,
            "align_items": null,
            "align_self": null,
            "border": null,
            "bottom": null,
            "display": null,
            "flex": null,
            "flex_flow": null,
            "grid_area": null,
            "grid_auto_columns": null,
            "grid_auto_flow": null,
            "grid_auto_rows": null,
            "grid_column": null,
            "grid_gap": null,
            "grid_row": null,
            "grid_template_areas": null,
            "grid_template_columns": null,
            "grid_template_rows": null,
            "height": null,
            "justify_content": null,
            "justify_items": null,
            "left": null,
            "margin": null,
            "max_height": null,
            "max_width": null,
            "min_height": null,
            "min_width": null,
            "object_fit": null,
            "object_position": null,
            "order": null,
            "overflow": null,
            "overflow_x": null,
            "overflow_y": null,
            "padding": null,
            "right": null,
            "top": null,
            "visibility": null,
            "width": null
          }
        },
        "9363d43a5ce6481e9b74eae97985a428": {
          "model_module": "@jupyter-widgets/controls",
          "model_name": "DescriptionStyleModel",
          "model_module_version": "1.5.0",
          "state": {
            "_model_module": "@jupyter-widgets/controls",
            "_model_module_version": "1.5.0",
            "_model_name": "DescriptionStyleModel",
            "_view_count": null,
            "_view_module": "@jupyter-widgets/base",
            "_view_module_version": "1.2.0",
            "_view_name": "StyleView",
            "description_width": ""
          }
        },
        "d7a494b3026a45139a2caa49d4f1bf53": {
          "model_module": "@jupyter-widgets/controls",
          "model_name": "HBoxModel",
          "model_module_version": "1.5.0",
          "state": {
            "_dom_classes": [],
            "_model_module": "@jupyter-widgets/controls",
            "_model_module_version": "1.5.0",
            "_model_name": "HBoxModel",
            "_view_count": null,
            "_view_module": "@jupyter-widgets/controls",
            "_view_module_version": "1.5.0",
            "_view_name": "HBoxView",
            "box_style": "",
            "children": [
              "IPY_MODEL_432ecff4907e498ca8f254768b7ffe93",
              "IPY_MODEL_69e9f23feea6425cb4b90b29b1314959",
              "IPY_MODEL_bf201e4ab13d4e9c80f5f312c735f07e"
            ],
            "layout": "IPY_MODEL_8cee271b047e4a449b6f3d1cb965b98b"
          }
        },
        "432ecff4907e498ca8f254768b7ffe93": {
          "model_module": "@jupyter-widgets/controls",
          "model_name": "HTMLModel",
          "model_module_version": "1.5.0",
          "state": {
            "_dom_classes": [],
            "_model_module": "@jupyter-widgets/controls",
            "_model_module_version": "1.5.0",
            "_model_name": "HTMLModel",
            "_view_count": null,
            "_view_module": "@jupyter-widgets/controls",
            "_view_module_version": "1.5.0",
            "_view_name": "HTMLView",
            "description": "",
            "description_tooltip": null,
            "layout": "IPY_MODEL_73e0b95da6844b71b556d1d5c3b6729b",
            "placeholder": "​",
            "style": "IPY_MODEL_edf5bbd13abb4398abfdf2fbb96eb72d",
            "value": "tokenizer.json: 100%"
          }
        },
        "69e9f23feea6425cb4b90b29b1314959": {
          "model_module": "@jupyter-widgets/controls",
          "model_name": "FloatProgressModel",
          "model_module_version": "1.5.0",
          "state": {
            "_dom_classes": [],
            "_model_module": "@jupyter-widgets/controls",
            "_model_module_version": "1.5.0",
            "_model_name": "FloatProgressModel",
            "_view_count": null,
            "_view_module": "@jupyter-widgets/controls",
            "_view_module_version": "1.5.0",
            "_view_name": "ProgressView",
            "bar_style": "success",
            "description": "",
            "description_tooltip": null,
            "layout": "IPY_MODEL_9f911d01f3c34419a0fd874bdbf5776a",
            "max": 1389353,
            "min": 0,
            "orientation": "horizontal",
            "style": "IPY_MODEL_821395eb50474f0eba283089b920de27",
            "value": 1389353
          }
        },
        "bf201e4ab13d4e9c80f5f312c735f07e": {
          "model_module": "@jupyter-widgets/controls",
          "model_name": "HTMLModel",
          "model_module_version": "1.5.0",
          "state": {
            "_dom_classes": [],
            "_model_module": "@jupyter-widgets/controls",
            "_model_module_version": "1.5.0",
            "_model_name": "HTMLModel",
            "_view_count": null,
            "_view_module": "@jupyter-widgets/controls",
            "_view_module_version": "1.5.0",
            "_view_name": "HTMLView",
            "description": "",
            "description_tooltip": null,
            "layout": "IPY_MODEL_413e7ccf27574efd9e1d98397f3e986e",
            "placeholder": "​",
            "style": "IPY_MODEL_bfc07334d9714ba2be40ee4acb417f18",
            "value": " 1.39M/1.39M [00:00&lt;00:00, 9.72MB/s]"
          }
        },
        "8cee271b047e4a449b6f3d1cb965b98b": {
          "model_module": "@jupyter-widgets/base",
          "model_name": "LayoutModel",
          "model_module_version": "1.2.0",
          "state": {
            "_model_module": "@jupyter-widgets/base",
            "_model_module_version": "1.2.0",
            "_model_name": "LayoutModel",
            "_view_count": null,
            "_view_module": "@jupyter-widgets/base",
            "_view_module_version": "1.2.0",
            "_view_name": "LayoutView",
            "align_content": null,
            "align_items": null,
            "align_self": null,
            "border": null,
            "bottom": null,
            "display": null,
            "flex": null,
            "flex_flow": null,
            "grid_area": null,
            "grid_auto_columns": null,
            "grid_auto_flow": null,
            "grid_auto_rows": null,
            "grid_column": null,
            "grid_gap": null,
            "grid_row": null,
            "grid_template_areas": null,
            "grid_template_columns": null,
            "grid_template_rows": null,
            "height": null,
            "justify_content": null,
            "justify_items": null,
            "left": null,
            "margin": null,
            "max_height": null,
            "max_width": null,
            "min_height": null,
            "min_width": null,
            "object_fit": null,
            "object_position": null,
            "order": null,
            "overflow": null,
            "overflow_x": null,
            "overflow_y": null,
            "padding": null,
            "right": null,
            "top": null,
            "visibility": null,
            "width": null
          }
        },
        "73e0b95da6844b71b556d1d5c3b6729b": {
          "model_module": "@jupyter-widgets/base",
          "model_name": "LayoutModel",
          "model_module_version": "1.2.0",
          "state": {
            "_model_module": "@jupyter-widgets/base",
            "_model_module_version": "1.2.0",
            "_model_name": "LayoutModel",
            "_view_count": null,
            "_view_module": "@jupyter-widgets/base",
            "_view_module_version": "1.2.0",
            "_view_name": "LayoutView",
            "align_content": null,
            "align_items": null,
            "align_self": null,
            "border": null,
            "bottom": null,
            "display": null,
            "flex": null,
            "flex_flow": null,
            "grid_area": null,
            "grid_auto_columns": null,
            "grid_auto_flow": null,
            "grid_auto_rows": null,
            "grid_column": null,
            "grid_gap": null,
            "grid_row": null,
            "grid_template_areas": null,
            "grid_template_columns": null,
            "grid_template_rows": null,
            "height": null,
            "justify_content": null,
            "justify_items": null,
            "left": null,
            "margin": null,
            "max_height": null,
            "max_width": null,
            "min_height": null,
            "min_width": null,
            "object_fit": null,
            "object_position": null,
            "order": null,
            "overflow": null,
            "overflow_x": null,
            "overflow_y": null,
            "padding": null,
            "right": null,
            "top": null,
            "visibility": null,
            "width": null
          }
        },
        "edf5bbd13abb4398abfdf2fbb96eb72d": {
          "model_module": "@jupyter-widgets/controls",
          "model_name": "DescriptionStyleModel",
          "model_module_version": "1.5.0",
          "state": {
            "_model_module": "@jupyter-widgets/controls",
            "_model_module_version": "1.5.0",
            "_model_name": "DescriptionStyleModel",
            "_view_count": null,
            "_view_module": "@jupyter-widgets/base",
            "_view_module_version": "1.2.0",
            "_view_name": "StyleView",
            "description_width": ""
          }
        },
        "9f911d01f3c34419a0fd874bdbf5776a": {
          "model_module": "@jupyter-widgets/base",
          "model_name": "LayoutModel",
          "model_module_version": "1.2.0",
          "state": {
            "_model_module": "@jupyter-widgets/base",
            "_model_module_version": "1.2.0",
            "_model_name": "LayoutModel",
            "_view_count": null,
            "_view_module": "@jupyter-widgets/base",
            "_view_module_version": "1.2.0",
            "_view_name": "LayoutView",
            "align_content": null,
            "align_items": null,
            "align_self": null,
            "border": null,
            "bottom": null,
            "display": null,
            "flex": null,
            "flex_flow": null,
            "grid_area": null,
            "grid_auto_columns": null,
            "grid_auto_flow": null,
            "grid_auto_rows": null,
            "grid_column": null,
            "grid_gap": null,
            "grid_row": null,
            "grid_template_areas": null,
            "grid_template_columns": null,
            "grid_template_rows": null,
            "height": null,
            "justify_content": null,
            "justify_items": null,
            "left": null,
            "margin": null,
            "max_height": null,
            "max_width": null,
            "min_height": null,
            "min_width": null,
            "object_fit": null,
            "object_position": null,
            "order": null,
            "overflow": null,
            "overflow_x": null,
            "overflow_y": null,
            "padding": null,
            "right": null,
            "top": null,
            "visibility": null,
            "width": null
          }
        },
        "821395eb50474f0eba283089b920de27": {
          "model_module": "@jupyter-widgets/controls",
          "model_name": "ProgressStyleModel",
          "model_module_version": "1.5.0",
          "state": {
            "_model_module": "@jupyter-widgets/controls",
            "_model_module_version": "1.5.0",
            "_model_name": "ProgressStyleModel",
            "_view_count": null,
            "_view_module": "@jupyter-widgets/base",
            "_view_module_version": "1.2.0",
            "_view_name": "StyleView",
            "bar_color": null,
            "description_width": ""
          }
        },
        "413e7ccf27574efd9e1d98397f3e986e": {
          "model_module": "@jupyter-widgets/base",
          "model_name": "LayoutModel",
          "model_module_version": "1.2.0",
          "state": {
            "_model_module": "@jupyter-widgets/base",
            "_model_module_version": "1.2.0",
            "_model_name": "LayoutModel",
            "_view_count": null,
            "_view_module": "@jupyter-widgets/base",
            "_view_module_version": "1.2.0",
            "_view_name": "LayoutView",
            "align_content": null,
            "align_items": null,
            "align_self": null,
            "border": null,
            "bottom": null,
            "display": null,
            "flex": null,
            "flex_flow": null,
            "grid_area": null,
            "grid_auto_columns": null,
            "grid_auto_flow": null,
            "grid_auto_rows": null,
            "grid_column": null,
            "grid_gap": null,
            "grid_row": null,
            "grid_template_areas": null,
            "grid_template_columns": null,
            "grid_template_rows": null,
            "height": null,
            "justify_content": null,
            "justify_items": null,
            "left": null,
            "margin": null,
            "max_height": null,
            "max_width": null,
            "min_height": null,
            "min_width": null,
            "object_fit": null,
            "object_position": null,
            "order": null,
            "overflow": null,
            "overflow_x": null,
            "overflow_y": null,
            "padding": null,
            "right": null,
            "top": null,
            "visibility": null,
            "width": null
          }
        },
        "bfc07334d9714ba2be40ee4acb417f18": {
          "model_module": "@jupyter-widgets/controls",
          "model_name": "DescriptionStyleModel",
          "model_module_version": "1.5.0",
          "state": {
            "_model_module": "@jupyter-widgets/controls",
            "_model_module_version": "1.5.0",
            "_model_name": "DescriptionStyleModel",
            "_view_count": null,
            "_view_module": "@jupyter-widgets/base",
            "_view_module_version": "1.2.0",
            "_view_name": "StyleView",
            "description_width": ""
          }
        },
        "dc4443b43dd64d01af972dcc0b8313a4": {
          "model_module": "@jupyter-widgets/controls",
          "model_name": "HBoxModel",
          "model_module_version": "1.5.0",
          "state": {
            "_dom_classes": [],
            "_model_module": "@jupyter-widgets/controls",
            "_model_module_version": "1.5.0",
            "_model_name": "HBoxModel",
            "_view_count": null,
            "_view_module": "@jupyter-widgets/controls",
            "_view_module_version": "1.5.0",
            "_view_name": "HBoxView",
            "box_style": "",
            "children": [
              "IPY_MODEL_1b72ffea0d3f4dc5b35ac0d5fbaef3c9",
              "IPY_MODEL_9bb5491a53a445ce99389eca24c4eaa5",
              "IPY_MODEL_9ac00fc4413e47349a5cd024921a0b0c"
            ],
            "layout": "IPY_MODEL_08394808a2724578bb1d0a7ad81b81f4"
          }
        },
        "1b72ffea0d3f4dc5b35ac0d5fbaef3c9": {
          "model_module": "@jupyter-widgets/controls",
          "model_name": "HTMLModel",
          "model_module_version": "1.5.0",
          "state": {
            "_dom_classes": [],
            "_model_module": "@jupyter-widgets/controls",
            "_model_module_version": "1.5.0",
            "_model_name": "HTMLModel",
            "_view_count": null,
            "_view_module": "@jupyter-widgets/controls",
            "_view_module_version": "1.5.0",
            "_view_name": "HTMLView",
            "description": "",
            "description_tooltip": null,
            "layout": "IPY_MODEL_dd777236151f4572a2987dc47784c837",
            "placeholder": "​",
            "style": "IPY_MODEL_c5414b3967b847f296e2087a1aadcdc3",
            "value": "config.json: 100%"
          }
        },
        "9bb5491a53a445ce99389eca24c4eaa5": {
          "model_module": "@jupyter-widgets/controls",
          "model_name": "FloatProgressModel",
          "model_module_version": "1.5.0",
          "state": {
            "_dom_classes": [],
            "_model_module": "@jupyter-widgets/controls",
            "_model_module_version": "1.5.0",
            "_model_name": "FloatProgressModel",
            "_view_count": null,
            "_view_module": "@jupyter-widgets/controls",
            "_view_module_version": "1.5.0",
            "_view_name": "ProgressView",
            "bar_style": "success",
            "description": "",
            "description_tooltip": null,
            "layout": "IPY_MODEL_98ee4fa2d1e547598922bf6fa389e7a1",
            "max": 1206,
            "min": 0,
            "orientation": "horizontal",
            "style": "IPY_MODEL_a992751cca4447bcbba65c043611df39",
            "value": 1206
          }
        },
        "9ac00fc4413e47349a5cd024921a0b0c": {
          "model_module": "@jupyter-widgets/controls",
          "model_name": "HTMLModel",
          "model_module_version": "1.5.0",
          "state": {
            "_dom_classes": [],
            "_model_module": "@jupyter-widgets/controls",
            "_model_module_version": "1.5.0",
            "_model_name": "HTMLModel",
            "_view_count": null,
            "_view_module": "@jupyter-widgets/controls",
            "_view_module_version": "1.5.0",
            "_view_name": "HTMLView",
            "description": "",
            "description_tooltip": null,
            "layout": "IPY_MODEL_ed6d2e9594ae4bef91b96b5b73a420d2",
            "placeholder": "​",
            "style": "IPY_MODEL_e1a01c7da3994054926eac0756cc9a20",
            "value": " 1.21k/1.21k [00:00&lt;00:00, 92.2kB/s]"
          }
        },
        "08394808a2724578bb1d0a7ad81b81f4": {
          "model_module": "@jupyter-widgets/base",
          "model_name": "LayoutModel",
          "model_module_version": "1.2.0",
          "state": {
            "_model_module": "@jupyter-widgets/base",
            "_model_module_version": "1.2.0",
            "_model_name": "LayoutModel",
            "_view_count": null,
            "_view_module": "@jupyter-widgets/base",
            "_view_module_version": "1.2.0",
            "_view_name": "LayoutView",
            "align_content": null,
            "align_items": null,
            "align_self": null,
            "border": null,
            "bottom": null,
            "display": null,
            "flex": null,
            "flex_flow": null,
            "grid_area": null,
            "grid_auto_columns": null,
            "grid_auto_flow": null,
            "grid_auto_rows": null,
            "grid_column": null,
            "grid_gap": null,
            "grid_row": null,
            "grid_template_areas": null,
            "grid_template_columns": null,
            "grid_template_rows": null,
            "height": null,
            "justify_content": null,
            "justify_items": null,
            "left": null,
            "margin": null,
            "max_height": null,
            "max_width": null,
            "min_height": null,
            "min_width": null,
            "object_fit": null,
            "object_position": null,
            "order": null,
            "overflow": null,
            "overflow_x": null,
            "overflow_y": null,
            "padding": null,
            "right": null,
            "top": null,
            "visibility": null,
            "width": null
          }
        },
        "dd777236151f4572a2987dc47784c837": {
          "model_module": "@jupyter-widgets/base",
          "model_name": "LayoutModel",
          "model_module_version": "1.2.0",
          "state": {
            "_model_module": "@jupyter-widgets/base",
            "_model_module_version": "1.2.0",
            "_model_name": "LayoutModel",
            "_view_count": null,
            "_view_module": "@jupyter-widgets/base",
            "_view_module_version": "1.2.0",
            "_view_name": "LayoutView",
            "align_content": null,
            "align_items": null,
            "align_self": null,
            "border": null,
            "bottom": null,
            "display": null,
            "flex": null,
            "flex_flow": null,
            "grid_area": null,
            "grid_auto_columns": null,
            "grid_auto_flow": null,
            "grid_auto_rows": null,
            "grid_column": null,
            "grid_gap": null,
            "grid_row": null,
            "grid_template_areas": null,
            "grid_template_columns": null,
            "grid_template_rows": null,
            "height": null,
            "justify_content": null,
            "justify_items": null,
            "left": null,
            "margin": null,
            "max_height": null,
            "max_width": null,
            "min_height": null,
            "min_width": null,
            "object_fit": null,
            "object_position": null,
            "order": null,
            "overflow": null,
            "overflow_x": null,
            "overflow_y": null,
            "padding": null,
            "right": null,
            "top": null,
            "visibility": null,
            "width": null
          }
        },
        "c5414b3967b847f296e2087a1aadcdc3": {
          "model_module": "@jupyter-widgets/controls",
          "model_name": "DescriptionStyleModel",
          "model_module_version": "1.5.0",
          "state": {
            "_model_module": "@jupyter-widgets/controls",
            "_model_module_version": "1.5.0",
            "_model_name": "DescriptionStyleModel",
            "_view_count": null,
            "_view_module": "@jupyter-widgets/base",
            "_view_module_version": "1.2.0",
            "_view_name": "StyleView",
            "description_width": ""
          }
        },
        "98ee4fa2d1e547598922bf6fa389e7a1": {
          "model_module": "@jupyter-widgets/base",
          "model_name": "LayoutModel",
          "model_module_version": "1.2.0",
          "state": {
            "_model_module": "@jupyter-widgets/base",
            "_model_module_version": "1.2.0",
            "_model_name": "LayoutModel",
            "_view_count": null,
            "_view_module": "@jupyter-widgets/base",
            "_view_module_version": "1.2.0",
            "_view_name": "LayoutView",
            "align_content": null,
            "align_items": null,
            "align_self": null,
            "border": null,
            "bottom": null,
            "display": null,
            "flex": null,
            "flex_flow": null,
            "grid_area": null,
            "grid_auto_columns": null,
            "grid_auto_flow": null,
            "grid_auto_rows": null,
            "grid_column": null,
            "grid_gap": null,
            "grid_row": null,
            "grid_template_areas": null,
            "grid_template_columns": null,
            "grid_template_rows": null,
            "height": null,
            "justify_content": null,
            "justify_items": null,
            "left": null,
            "margin": null,
            "max_height": null,
            "max_width": null,
            "min_height": null,
            "min_width": null,
            "object_fit": null,
            "object_position": null,
            "order": null,
            "overflow": null,
            "overflow_x": null,
            "overflow_y": null,
            "padding": null,
            "right": null,
            "top": null,
            "visibility": null,
            "width": null
          }
        },
        "a992751cca4447bcbba65c043611df39": {
          "model_module": "@jupyter-widgets/controls",
          "model_name": "ProgressStyleModel",
          "model_module_version": "1.5.0",
          "state": {
            "_model_module": "@jupyter-widgets/controls",
            "_model_module_version": "1.5.0",
            "_model_name": "ProgressStyleModel",
            "_view_count": null,
            "_view_module": "@jupyter-widgets/base",
            "_view_module_version": "1.2.0",
            "_view_name": "StyleView",
            "bar_color": null,
            "description_width": ""
          }
        },
        "ed6d2e9594ae4bef91b96b5b73a420d2": {
          "model_module": "@jupyter-widgets/base",
          "model_name": "LayoutModel",
          "model_module_version": "1.2.0",
          "state": {
            "_model_module": "@jupyter-widgets/base",
            "_model_module_version": "1.2.0",
            "_model_name": "LayoutModel",
            "_view_count": null,
            "_view_module": "@jupyter-widgets/base",
            "_view_module_version": "1.2.0",
            "_view_name": "LayoutView",
            "align_content": null,
            "align_items": null,
            "align_self": null,
            "border": null,
            "bottom": null,
            "display": null,
            "flex": null,
            "flex_flow": null,
            "grid_area": null,
            "grid_auto_columns": null,
            "grid_auto_flow": null,
            "grid_auto_rows": null,
            "grid_column": null,
            "grid_gap": null,
            "grid_row": null,
            "grid_template_areas": null,
            "grid_template_columns": null,
            "grid_template_rows": null,
            "height": null,
            "justify_content": null,
            "justify_items": null,
            "left": null,
            "margin": null,
            "max_height": null,
            "max_width": null,
            "min_height": null,
            "min_width": null,
            "object_fit": null,
            "object_position": null,
            "order": null,
            "overflow": null,
            "overflow_x": null,
            "overflow_y": null,
            "padding": null,
            "right": null,
            "top": null,
            "visibility": null,
            "width": null
          }
        },
        "e1a01c7da3994054926eac0756cc9a20": {
          "model_module": "@jupyter-widgets/controls",
          "model_name": "DescriptionStyleModel",
          "model_module_version": "1.5.0",
          "state": {
            "_model_module": "@jupyter-widgets/controls",
            "_model_module_version": "1.5.0",
            "_model_name": "DescriptionStyleModel",
            "_view_count": null,
            "_view_module": "@jupyter-widgets/base",
            "_view_module_version": "1.2.0",
            "_view_name": "StyleView",
            "description_width": ""
          }
        },
        "5917bb5349174824a1e7dd1322111d0b": {
          "model_module": "@jupyter-widgets/controls",
          "model_name": "HBoxModel",
          "model_module_version": "1.5.0",
          "state": {
            "_dom_classes": [],
            "_model_module": "@jupyter-widgets/controls",
            "_model_module_version": "1.5.0",
            "_model_name": "HBoxModel",
            "_view_count": null,
            "_view_module": "@jupyter-widgets/controls",
            "_view_module_version": "1.5.0",
            "_view_name": "HBoxView",
            "box_style": "",
            "children": [
              "IPY_MODEL_7ae8d538bd754a29b3b0815fdbd6134b",
              "IPY_MODEL_5dda23d5e5cc4cbda2f85746a2a8903f",
              "IPY_MODEL_26a9e9baa3834a468e05d71f85af1a3a"
            ],
            "layout": "IPY_MODEL_5adec37983a3481fa0a8e213050a71c5"
          }
        },
        "7ae8d538bd754a29b3b0815fdbd6134b": {
          "model_module": "@jupyter-widgets/controls",
          "model_name": "HTMLModel",
          "model_module_version": "1.5.0",
          "state": {
            "_dom_classes": [],
            "_model_module": "@jupyter-widgets/controls",
            "_model_module_version": "1.5.0",
            "_model_name": "HTMLModel",
            "_view_count": null,
            "_view_module": "@jupyter-widgets/controls",
            "_view_module_version": "1.5.0",
            "_view_name": "HTMLView",
            "description": "",
            "description_tooltip": null,
            "layout": "IPY_MODEL_ed413fe2cf0f4ff19ac8c59d7b1aaf7b",
            "placeholder": "​",
            "style": "IPY_MODEL_81068e94ea17461b867549d839ade25e",
            "value": "model.safetensors: 100%"
          }
        },
        "5dda23d5e5cc4cbda2f85746a2a8903f": {
          "model_module": "@jupyter-widgets/controls",
          "model_name": "FloatProgressModel",
          "model_module_version": "1.5.0",
          "state": {
            "_dom_classes": [],
            "_model_module": "@jupyter-widgets/controls",
            "_model_module_version": "1.5.0",
            "_model_name": "FloatProgressModel",
            "_view_count": null,
            "_view_module": "@jupyter-widgets/controls",
            "_view_module_version": "1.5.0",
            "_view_name": "ProgressView",
            "bar_style": "success",
            "description": "",
            "description_tooltip": null,
            "layout": "IPY_MODEL_6117697067ce4b019b27a412fd67e0ea",
            "max": 242043056,
            "min": 0,
            "orientation": "horizontal",
            "style": "IPY_MODEL_d6ce24d02977446ab748bed404874e67",
            "value": 242043056
          }
        },
        "26a9e9baa3834a468e05d71f85af1a3a": {
          "model_module": "@jupyter-widgets/controls",
          "model_name": "HTMLModel",
          "model_module_version": "1.5.0",
          "state": {
            "_dom_classes": [],
            "_model_module": "@jupyter-widgets/controls",
            "_model_module_version": "1.5.0",
            "_model_name": "HTMLModel",
            "_view_count": null,
            "_view_module": "@jupyter-widgets/controls",
            "_view_module_version": "1.5.0",
            "_view_name": "HTMLView",
            "description": "",
            "description_tooltip": null,
            "layout": "IPY_MODEL_205753b7d5bb4f20b243d5e1f524343f",
            "placeholder": "​",
            "style": "IPY_MODEL_7af5793d3bc74255920abb6df183043d",
            "value": " 242M/242M [00:01&lt;00:00, 238MB/s]"
          }
        },
        "5adec37983a3481fa0a8e213050a71c5": {
          "model_module": "@jupyter-widgets/base",
          "model_name": "LayoutModel",
          "model_module_version": "1.2.0",
          "state": {
            "_model_module": "@jupyter-widgets/base",
            "_model_module_version": "1.2.0",
            "_model_name": "LayoutModel",
            "_view_count": null,
            "_view_module": "@jupyter-widgets/base",
            "_view_module_version": "1.2.0",
            "_view_name": "LayoutView",
            "align_content": null,
            "align_items": null,
            "align_self": null,
            "border": null,
            "bottom": null,
            "display": null,
            "flex": null,
            "flex_flow": null,
            "grid_area": null,
            "grid_auto_columns": null,
            "grid_auto_flow": null,
            "grid_auto_rows": null,
            "grid_column": null,
            "grid_gap": null,
            "grid_row": null,
            "grid_template_areas": null,
            "grid_template_columns": null,
            "grid_template_rows": null,
            "height": null,
            "justify_content": null,
            "justify_items": null,
            "left": null,
            "margin": null,
            "max_height": null,
            "max_width": null,
            "min_height": null,
            "min_width": null,
            "object_fit": null,
            "object_position": null,
            "order": null,
            "overflow": null,
            "overflow_x": null,
            "overflow_y": null,
            "padding": null,
            "right": null,
            "top": null,
            "visibility": null,
            "width": null
          }
        },
        "ed413fe2cf0f4ff19ac8c59d7b1aaf7b": {
          "model_module": "@jupyter-widgets/base",
          "model_name": "LayoutModel",
          "model_module_version": "1.2.0",
          "state": {
            "_model_module": "@jupyter-widgets/base",
            "_model_module_version": "1.2.0",
            "_model_name": "LayoutModel",
            "_view_count": null,
            "_view_module": "@jupyter-widgets/base",
            "_view_module_version": "1.2.0",
            "_view_name": "LayoutView",
            "align_content": null,
            "align_items": null,
            "align_self": null,
            "border": null,
            "bottom": null,
            "display": null,
            "flex": null,
            "flex_flow": null,
            "grid_area": null,
            "grid_auto_columns": null,
            "grid_auto_flow": null,
            "grid_auto_rows": null,
            "grid_column": null,
            "grid_gap": null,
            "grid_row": null,
            "grid_template_areas": null,
            "grid_template_columns": null,
            "grid_template_rows": null,
            "height": null,
            "justify_content": null,
            "justify_items": null,
            "left": null,
            "margin": null,
            "max_height": null,
            "max_width": null,
            "min_height": null,
            "min_width": null,
            "object_fit": null,
            "object_position": null,
            "order": null,
            "overflow": null,
            "overflow_x": null,
            "overflow_y": null,
            "padding": null,
            "right": null,
            "top": null,
            "visibility": null,
            "width": null
          }
        },
        "81068e94ea17461b867549d839ade25e": {
          "model_module": "@jupyter-widgets/controls",
          "model_name": "DescriptionStyleModel",
          "model_module_version": "1.5.0",
          "state": {
            "_model_module": "@jupyter-widgets/controls",
            "_model_module_version": "1.5.0",
            "_model_name": "DescriptionStyleModel",
            "_view_count": null,
            "_view_module": "@jupyter-widgets/base",
            "_view_module_version": "1.2.0",
            "_view_name": "StyleView",
            "description_width": ""
          }
        },
        "6117697067ce4b019b27a412fd67e0ea": {
          "model_module": "@jupyter-widgets/base",
          "model_name": "LayoutModel",
          "model_module_version": "1.2.0",
          "state": {
            "_model_module": "@jupyter-widgets/base",
            "_model_module_version": "1.2.0",
            "_model_name": "LayoutModel",
            "_view_count": null,
            "_view_module": "@jupyter-widgets/base",
            "_view_module_version": "1.2.0",
            "_view_name": "LayoutView",
            "align_content": null,
            "align_items": null,
            "align_self": null,
            "border": null,
            "bottom": null,
            "display": null,
            "flex": null,
            "flex_flow": null,
            "grid_area": null,
            "grid_auto_columns": null,
            "grid_auto_flow": null,
            "grid_auto_rows": null,
            "grid_column": null,
            "grid_gap": null,
            "grid_row": null,
            "grid_template_areas": null,
            "grid_template_columns": null,
            "grid_template_rows": null,
            "height": null,
            "justify_content": null,
            "justify_items": null,
            "left": null,
            "margin": null,
            "max_height": null,
            "max_width": null,
            "min_height": null,
            "min_width": null,
            "object_fit": null,
            "object_position": null,
            "order": null,
            "overflow": null,
            "overflow_x": null,
            "overflow_y": null,
            "padding": null,
            "right": null,
            "top": null,
            "visibility": null,
            "width": null
          }
        },
        "d6ce24d02977446ab748bed404874e67": {
          "model_module": "@jupyter-widgets/controls",
          "model_name": "ProgressStyleModel",
          "model_module_version": "1.5.0",
          "state": {
            "_model_module": "@jupyter-widgets/controls",
            "_model_module_version": "1.5.0",
            "_model_name": "ProgressStyleModel",
            "_view_count": null,
            "_view_module": "@jupyter-widgets/base",
            "_view_module_version": "1.2.0",
            "_view_name": "StyleView",
            "bar_color": null,
            "description_width": ""
          }
        },
        "205753b7d5bb4f20b243d5e1f524343f": {
          "model_module": "@jupyter-widgets/base",
          "model_name": "LayoutModel",
          "model_module_version": "1.2.0",
          "state": {
            "_model_module": "@jupyter-widgets/base",
            "_model_module_version": "1.2.0",
            "_model_name": "LayoutModel",
            "_view_count": null,
            "_view_module": "@jupyter-widgets/base",
            "_view_module_version": "1.2.0",
            "_view_name": "LayoutView",
            "align_content": null,
            "align_items": null,
            "align_self": null,
            "border": null,
            "bottom": null,
            "display": null,
            "flex": null,
            "flex_flow": null,
            "grid_area": null,
            "grid_auto_columns": null,
            "grid_auto_flow": null,
            "grid_auto_rows": null,
            "grid_column": null,
            "grid_gap": null,
            "grid_row": null,
            "grid_template_areas": null,
            "grid_template_columns": null,
            "grid_template_rows": null,
            "height": null,
            "justify_content": null,
            "justify_items": null,
            "left": null,
            "margin": null,
            "max_height": null,
            "max_width": null,
            "min_height": null,
            "min_width": null,
            "object_fit": null,
            "object_position": null,
            "order": null,
            "overflow": null,
            "overflow_x": null,
            "overflow_y": null,
            "padding": null,
            "right": null,
            "top": null,
            "visibility": null,
            "width": null
          }
        },
        "7af5793d3bc74255920abb6df183043d": {
          "model_module": "@jupyter-widgets/controls",
          "model_name": "DescriptionStyleModel",
          "model_module_version": "1.5.0",
          "state": {
            "_model_module": "@jupyter-widgets/controls",
            "_model_module_version": "1.5.0",
            "_model_name": "DescriptionStyleModel",
            "_view_count": null,
            "_view_module": "@jupyter-widgets/base",
            "_view_module_version": "1.2.0",
            "_view_name": "StyleView",
            "description_width": ""
          }
        },
        "b875740c164242ada1ad2481ffeafada": {
          "model_module": "@jupyter-widgets/controls",
          "model_name": "HBoxModel",
          "model_module_version": "1.5.0",
          "state": {
            "_dom_classes": [],
            "_model_module": "@jupyter-widgets/controls",
            "_model_module_version": "1.5.0",
            "_model_name": "HBoxModel",
            "_view_count": null,
            "_view_module": "@jupyter-widgets/controls",
            "_view_module_version": "1.5.0",
            "_view_name": "HBoxView",
            "box_style": "",
            "children": [
              "IPY_MODEL_141e61f918024dcbb8f2b0260e181688",
              "IPY_MODEL_79a145f1d71f49d0926935857484cdec",
              "IPY_MODEL_94dcfa3293884a6e829514261e289adc"
            ],
            "layout": "IPY_MODEL_bd69226f52854995b6adc8fc46682736"
          }
        },
        "141e61f918024dcbb8f2b0260e181688": {
          "model_module": "@jupyter-widgets/controls",
          "model_name": "HTMLModel",
          "model_module_version": "1.5.0",
          "state": {
            "_dom_classes": [],
            "_model_module": "@jupyter-widgets/controls",
            "_model_module_version": "1.5.0",
            "_model_name": "HTMLModel",
            "_view_count": null,
            "_view_module": "@jupyter-widgets/controls",
            "_view_module_version": "1.5.0",
            "_view_name": "HTMLView",
            "description": "",
            "description_tooltip": null,
            "layout": "IPY_MODEL_188e326b279147bd825003aac02e3f23",
            "placeholder": "​",
            "style": "IPY_MODEL_302b850244c24c5b925f3e073a79ef6a",
            "value": "generation_config.json: 100%"
          }
        },
        "79a145f1d71f49d0926935857484cdec": {
          "model_module": "@jupyter-widgets/controls",
          "model_name": "FloatProgressModel",
          "model_module_version": "1.5.0",
          "state": {
            "_dom_classes": [],
            "_model_module": "@jupyter-widgets/controls",
            "_model_module_version": "1.5.0",
            "_model_name": "FloatProgressModel",
            "_view_count": null,
            "_view_module": "@jupyter-widgets/controls",
            "_view_module_version": "1.5.0",
            "_view_name": "ProgressView",
            "bar_style": "success",
            "description": "",
            "description_tooltip": null,
            "layout": "IPY_MODEL_d5fe2e8a517d44a0b868d16f4a66dcd8",
            "max": 147,
            "min": 0,
            "orientation": "horizontal",
            "style": "IPY_MODEL_b23fc1f4296144d18d0252a97bfd8765",
            "value": 147
          }
        },
        "94dcfa3293884a6e829514261e289adc": {
          "model_module": "@jupyter-widgets/controls",
          "model_name": "HTMLModel",
          "model_module_version": "1.5.0",
          "state": {
            "_dom_classes": [],
            "_model_module": "@jupyter-widgets/controls",
            "_model_module_version": "1.5.0",
            "_model_name": "HTMLModel",
            "_view_count": null,
            "_view_module": "@jupyter-widgets/controls",
            "_view_module_version": "1.5.0",
            "_view_name": "HTMLView",
            "description": "",
            "description_tooltip": null,
            "layout": "IPY_MODEL_1effea2535394c57be748ea726ef8439",
            "placeholder": "​",
            "style": "IPY_MODEL_e649aa46a6a640a596ed790db6ea2dd8",
            "value": " 147/147 [00:00&lt;00:00, 14.5kB/s]"
          }
        },
        "bd69226f52854995b6adc8fc46682736": {
          "model_module": "@jupyter-widgets/base",
          "model_name": "LayoutModel",
          "model_module_version": "1.2.0",
          "state": {
            "_model_module": "@jupyter-widgets/base",
            "_model_module_version": "1.2.0",
            "_model_name": "LayoutModel",
            "_view_count": null,
            "_view_module": "@jupyter-widgets/base",
            "_view_module_version": "1.2.0",
            "_view_name": "LayoutView",
            "align_content": null,
            "align_items": null,
            "align_self": null,
            "border": null,
            "bottom": null,
            "display": null,
            "flex": null,
            "flex_flow": null,
            "grid_area": null,
            "grid_auto_columns": null,
            "grid_auto_flow": null,
            "grid_auto_rows": null,
            "grid_column": null,
            "grid_gap": null,
            "grid_row": null,
            "grid_template_areas": null,
            "grid_template_columns": null,
            "grid_template_rows": null,
            "height": null,
            "justify_content": null,
            "justify_items": null,
            "left": null,
            "margin": null,
            "max_height": null,
            "max_width": null,
            "min_height": null,
            "min_width": null,
            "object_fit": null,
            "object_position": null,
            "order": null,
            "overflow": null,
            "overflow_x": null,
            "overflow_y": null,
            "padding": null,
            "right": null,
            "top": null,
            "visibility": null,
            "width": null
          }
        },
        "188e326b279147bd825003aac02e3f23": {
          "model_module": "@jupyter-widgets/base",
          "model_name": "LayoutModel",
          "model_module_version": "1.2.0",
          "state": {
            "_model_module": "@jupyter-widgets/base",
            "_model_module_version": "1.2.0",
            "_model_name": "LayoutModel",
            "_view_count": null,
            "_view_module": "@jupyter-widgets/base",
            "_view_module_version": "1.2.0",
            "_view_name": "LayoutView",
            "align_content": null,
            "align_items": null,
            "align_self": null,
            "border": null,
            "bottom": null,
            "display": null,
            "flex": null,
            "flex_flow": null,
            "grid_area": null,
            "grid_auto_columns": null,
            "grid_auto_flow": null,
            "grid_auto_rows": null,
            "grid_column": null,
            "grid_gap": null,
            "grid_row": null,
            "grid_template_areas": null,
            "grid_template_columns": null,
            "grid_template_rows": null,
            "height": null,
            "justify_content": null,
            "justify_items": null,
            "left": null,
            "margin": null,
            "max_height": null,
            "max_width": null,
            "min_height": null,
            "min_width": null,
            "object_fit": null,
            "object_position": null,
            "order": null,
            "overflow": null,
            "overflow_x": null,
            "overflow_y": null,
            "padding": null,
            "right": null,
            "top": null,
            "visibility": null,
            "width": null
          }
        },
        "302b850244c24c5b925f3e073a79ef6a": {
          "model_module": "@jupyter-widgets/controls",
          "model_name": "DescriptionStyleModel",
          "model_module_version": "1.5.0",
          "state": {
            "_model_module": "@jupyter-widgets/controls",
            "_model_module_version": "1.5.0",
            "_model_name": "DescriptionStyleModel",
            "_view_count": null,
            "_view_module": "@jupyter-widgets/base",
            "_view_module_version": "1.2.0",
            "_view_name": "StyleView",
            "description_width": ""
          }
        },
        "d5fe2e8a517d44a0b868d16f4a66dcd8": {
          "model_module": "@jupyter-widgets/base",
          "model_name": "LayoutModel",
          "model_module_version": "1.2.0",
          "state": {
            "_model_module": "@jupyter-widgets/base",
            "_model_module_version": "1.2.0",
            "_model_name": "LayoutModel",
            "_view_count": null,
            "_view_module": "@jupyter-widgets/base",
            "_view_module_version": "1.2.0",
            "_view_name": "LayoutView",
            "align_content": null,
            "align_items": null,
            "align_self": null,
            "border": null,
            "bottom": null,
            "display": null,
            "flex": null,
            "flex_flow": null,
            "grid_area": null,
            "grid_auto_columns": null,
            "grid_auto_flow": null,
            "grid_auto_rows": null,
            "grid_column": null,
            "grid_gap": null,
            "grid_row": null,
            "grid_template_areas": null,
            "grid_template_columns": null,
            "grid_template_rows": null,
            "height": null,
            "justify_content": null,
            "justify_items": null,
            "left": null,
            "margin": null,
            "max_height": null,
            "max_width": null,
            "min_height": null,
            "min_width": null,
            "object_fit": null,
            "object_position": null,
            "order": null,
            "overflow": null,
            "overflow_x": null,
            "overflow_y": null,
            "padding": null,
            "right": null,
            "top": null,
            "visibility": null,
            "width": null
          }
        },
        "b23fc1f4296144d18d0252a97bfd8765": {
          "model_module": "@jupyter-widgets/controls",
          "model_name": "ProgressStyleModel",
          "model_module_version": "1.5.0",
          "state": {
            "_model_module": "@jupyter-widgets/controls",
            "_model_module_version": "1.5.0",
            "_model_name": "ProgressStyleModel",
            "_view_count": null,
            "_view_module": "@jupyter-widgets/base",
            "_view_module_version": "1.2.0",
            "_view_name": "StyleView",
            "bar_color": null,
            "description_width": ""
          }
        },
        "1effea2535394c57be748ea726ef8439": {
          "model_module": "@jupyter-widgets/base",
          "model_name": "LayoutModel",
          "model_module_version": "1.2.0",
          "state": {
            "_model_module": "@jupyter-widgets/base",
            "_model_module_version": "1.2.0",
            "_model_name": "LayoutModel",
            "_view_count": null,
            "_view_module": "@jupyter-widgets/base",
            "_view_module_version": "1.2.0",
            "_view_name": "LayoutView",
            "align_content": null,
            "align_items": null,
            "align_self": null,
            "border": null,
            "bottom": null,
            "display": null,
            "flex": null,
            "flex_flow": null,
            "grid_area": null,
            "grid_auto_columns": null,
            "grid_auto_flow": null,
            "grid_auto_rows": null,
            "grid_column": null,
            "grid_gap": null,
            "grid_row": null,
            "grid_template_areas": null,
            "grid_template_columns": null,
            "grid_template_rows": null,
            "height": null,
            "justify_content": null,
            "justify_items": null,
            "left": null,
            "margin": null,
            "max_height": null,
            "max_width": null,
            "min_height": null,
            "min_width": null,
            "object_fit": null,
            "object_position": null,
            "order": null,
            "overflow": null,
            "overflow_x": null,
            "overflow_y": null,
            "padding": null,
            "right": null,
            "top": null,
            "visibility": null,
            "width": null
          }
        },
        "e649aa46a6a640a596ed790db6ea2dd8": {
          "model_module": "@jupyter-widgets/controls",
          "model_name": "DescriptionStyleModel",
          "model_module_version": "1.5.0",
          "state": {
            "_model_module": "@jupyter-widgets/controls",
            "_model_module_version": "1.5.0",
            "_model_name": "DescriptionStyleModel",
            "_view_count": null,
            "_view_module": "@jupyter-widgets/base",
            "_view_module_version": "1.2.0",
            "_view_name": "StyleView",
            "description_width": ""
          }
        },
        "9560a87c1f0748939f8b6c93f1d65a08": {
          "model_module": "@jupyter-widgets/controls",
          "model_name": "HBoxModel",
          "model_module_version": "1.5.0",
          "state": {
            "_dom_classes": [],
            "_model_module": "@jupyter-widgets/controls",
            "_model_module_version": "1.5.0",
            "_model_name": "HBoxModel",
            "_view_count": null,
            "_view_module": "@jupyter-widgets/controls",
            "_view_module_version": "1.5.0",
            "_view_name": "HBoxView",
            "box_style": "",
            "children": [
              "IPY_MODEL_ad92e097a40a4cc58ba864f2c5a4e920",
              "IPY_MODEL_2ffaa051b45c4c26a960ada92edac249",
              "IPY_MODEL_7a70708debcf4529ad917f7d6e2718f3"
            ],
            "layout": "IPY_MODEL_24bcc1bad28542b38543f1e244000c9f"
          }
        },
        "ad92e097a40a4cc58ba864f2c5a4e920": {
          "model_module": "@jupyter-widgets/controls",
          "model_name": "HTMLModel",
          "model_module_version": "1.5.0",
          "state": {
            "_dom_classes": [],
            "_model_module": "@jupyter-widgets/controls",
            "_model_module_version": "1.5.0",
            "_model_name": "HTMLModel",
            "_view_count": null,
            "_view_module": "@jupyter-widgets/controls",
            "_view_module_version": "1.5.0",
            "_view_name": "HTMLView",
            "description": "",
            "description_tooltip": null,
            "layout": "IPY_MODEL_db2802e6dcd34908aceb958ef753b742",
            "placeholder": "​",
            "style": "IPY_MODEL_b1679f6ee898450bac475b26863eef4e",
            "value": "Map: 100%"
          }
        },
        "2ffaa051b45c4c26a960ada92edac249": {
          "model_module": "@jupyter-widgets/controls",
          "model_name": "FloatProgressModel",
          "model_module_version": "1.5.0",
          "state": {
            "_dom_classes": [],
            "_model_module": "@jupyter-widgets/controls",
            "_model_module_version": "1.5.0",
            "_model_name": "FloatProgressModel",
            "_view_count": null,
            "_view_module": "@jupyter-widgets/controls",
            "_view_module_version": "1.5.0",
            "_view_name": "ProgressView",
            "bar_style": "success",
            "description": "",
            "description_tooltip": null,
            "layout": "IPY_MODEL_f7b1fb71ec4847f78ba650e9873ebdd1",
            "max": 1404,
            "min": 0,
            "orientation": "horizontal",
            "style": "IPY_MODEL_e59de0727ec44efd87d677aac53e075c",
            "value": 1404
          }
        },
        "7a70708debcf4529ad917f7d6e2718f3": {
          "model_module": "@jupyter-widgets/controls",
          "model_name": "HTMLModel",
          "model_module_version": "1.5.0",
          "state": {
            "_dom_classes": [],
            "_model_module": "@jupyter-widgets/controls",
            "_model_module_version": "1.5.0",
            "_model_name": "HTMLModel",
            "_view_count": null,
            "_view_module": "@jupyter-widgets/controls",
            "_view_module_version": "1.5.0",
            "_view_name": "HTMLView",
            "description": "",
            "description_tooltip": null,
            "layout": "IPY_MODEL_cd62b92f043e4415867a3ba21aea317e",
            "placeholder": "​",
            "style": "IPY_MODEL_5901874acc9548beb8c116b82f809dca",
            "value": " 1404/1404 [00:01&lt;00:00, 1298.26 examples/s]"
          }
        },
        "24bcc1bad28542b38543f1e244000c9f": {
          "model_module": "@jupyter-widgets/base",
          "model_name": "LayoutModel",
          "model_module_version": "1.2.0",
          "state": {
            "_model_module": "@jupyter-widgets/base",
            "_model_module_version": "1.2.0",
            "_model_name": "LayoutModel",
            "_view_count": null,
            "_view_module": "@jupyter-widgets/base",
            "_view_module_version": "1.2.0",
            "_view_name": "LayoutView",
            "align_content": null,
            "align_items": null,
            "align_self": null,
            "border": null,
            "bottom": null,
            "display": null,
            "flex": null,
            "flex_flow": null,
            "grid_area": null,
            "grid_auto_columns": null,
            "grid_auto_flow": null,
            "grid_auto_rows": null,
            "grid_column": null,
            "grid_gap": null,
            "grid_row": null,
            "grid_template_areas": null,
            "grid_template_columns": null,
            "grid_template_rows": null,
            "height": null,
            "justify_content": null,
            "justify_items": null,
            "left": null,
            "margin": null,
            "max_height": null,
            "max_width": null,
            "min_height": null,
            "min_width": null,
            "object_fit": null,
            "object_position": null,
            "order": null,
            "overflow": null,
            "overflow_x": null,
            "overflow_y": null,
            "padding": null,
            "right": null,
            "top": null,
            "visibility": null,
            "width": null
          }
        },
        "db2802e6dcd34908aceb958ef753b742": {
          "model_module": "@jupyter-widgets/base",
          "model_name": "LayoutModel",
          "model_module_version": "1.2.0",
          "state": {
            "_model_module": "@jupyter-widgets/base",
            "_model_module_version": "1.2.0",
            "_model_name": "LayoutModel",
            "_view_count": null,
            "_view_module": "@jupyter-widgets/base",
            "_view_module_version": "1.2.0",
            "_view_name": "LayoutView",
            "align_content": null,
            "align_items": null,
            "align_self": null,
            "border": null,
            "bottom": null,
            "display": null,
            "flex": null,
            "flex_flow": null,
            "grid_area": null,
            "grid_auto_columns": null,
            "grid_auto_flow": null,
            "grid_auto_rows": null,
            "grid_column": null,
            "grid_gap": null,
            "grid_row": null,
            "grid_template_areas": null,
            "grid_template_columns": null,
            "grid_template_rows": null,
            "height": null,
            "justify_content": null,
            "justify_items": null,
            "left": null,
            "margin": null,
            "max_height": null,
            "max_width": null,
            "min_height": null,
            "min_width": null,
            "object_fit": null,
            "object_position": null,
            "order": null,
            "overflow": null,
            "overflow_x": null,
            "overflow_y": null,
            "padding": null,
            "right": null,
            "top": null,
            "visibility": null,
            "width": null
          }
        },
        "b1679f6ee898450bac475b26863eef4e": {
          "model_module": "@jupyter-widgets/controls",
          "model_name": "DescriptionStyleModel",
          "model_module_version": "1.5.0",
          "state": {
            "_model_module": "@jupyter-widgets/controls",
            "_model_module_version": "1.5.0",
            "_model_name": "DescriptionStyleModel",
            "_view_count": null,
            "_view_module": "@jupyter-widgets/base",
            "_view_module_version": "1.2.0",
            "_view_name": "StyleView",
            "description_width": ""
          }
        },
        "f7b1fb71ec4847f78ba650e9873ebdd1": {
          "model_module": "@jupyter-widgets/base",
          "model_name": "LayoutModel",
          "model_module_version": "1.2.0",
          "state": {
            "_model_module": "@jupyter-widgets/base",
            "_model_module_version": "1.2.0",
            "_model_name": "LayoutModel",
            "_view_count": null,
            "_view_module": "@jupyter-widgets/base",
            "_view_module_version": "1.2.0",
            "_view_name": "LayoutView",
            "align_content": null,
            "align_items": null,
            "align_self": null,
            "border": null,
            "bottom": null,
            "display": null,
            "flex": null,
            "flex_flow": null,
            "grid_area": null,
            "grid_auto_columns": null,
            "grid_auto_flow": null,
            "grid_auto_rows": null,
            "grid_column": null,
            "grid_gap": null,
            "grid_row": null,
            "grid_template_areas": null,
            "grid_template_columns": null,
            "grid_template_rows": null,
            "height": null,
            "justify_content": null,
            "justify_items": null,
            "left": null,
            "margin": null,
            "max_height": null,
            "max_width": null,
            "min_height": null,
            "min_width": null,
            "object_fit": null,
            "object_position": null,
            "order": null,
            "overflow": null,
            "overflow_x": null,
            "overflow_y": null,
            "padding": null,
            "right": null,
            "top": null,
            "visibility": null,
            "width": null
          }
        },
        "e59de0727ec44efd87d677aac53e075c": {
          "model_module": "@jupyter-widgets/controls",
          "model_name": "ProgressStyleModel",
          "model_module_version": "1.5.0",
          "state": {
            "_model_module": "@jupyter-widgets/controls",
            "_model_module_version": "1.5.0",
            "_model_name": "ProgressStyleModel",
            "_view_count": null,
            "_view_module": "@jupyter-widgets/base",
            "_view_module_version": "1.2.0",
            "_view_name": "StyleView",
            "bar_color": null,
            "description_width": ""
          }
        },
        "cd62b92f043e4415867a3ba21aea317e": {
          "model_module": "@jupyter-widgets/base",
          "model_name": "LayoutModel",
          "model_module_version": "1.2.0",
          "state": {
            "_model_module": "@jupyter-widgets/base",
            "_model_module_version": "1.2.0",
            "_model_name": "LayoutModel",
            "_view_count": null,
            "_view_module": "@jupyter-widgets/base",
            "_view_module_version": "1.2.0",
            "_view_name": "LayoutView",
            "align_content": null,
            "align_items": null,
            "align_self": null,
            "border": null,
            "bottom": null,
            "display": null,
            "flex": null,
            "flex_flow": null,
            "grid_area": null,
            "grid_auto_columns": null,
            "grid_auto_flow": null,
            "grid_auto_rows": null,
            "grid_column": null,
            "grid_gap": null,
            "grid_row": null,
            "grid_template_areas": null,
            "grid_template_columns": null,
            "grid_template_rows": null,
            "height": null,
            "justify_content": null,
            "justify_items": null,
            "left": null,
            "margin": null,
            "max_height": null,
            "max_width": null,
            "min_height": null,
            "min_width": null,
            "object_fit": null,
            "object_position": null,
            "order": null,
            "overflow": null,
            "overflow_x": null,
            "overflow_y": null,
            "padding": null,
            "right": null,
            "top": null,
            "visibility": null,
            "width": null
          }
        },
        "5901874acc9548beb8c116b82f809dca": {
          "model_module": "@jupyter-widgets/controls",
          "model_name": "DescriptionStyleModel",
          "model_module_version": "1.5.0",
          "state": {
            "_model_module": "@jupyter-widgets/controls",
            "_model_module_version": "1.5.0",
            "_model_name": "DescriptionStyleModel",
            "_view_count": null,
            "_view_module": "@jupyter-widgets/base",
            "_view_module_version": "1.2.0",
            "_view_name": "StyleView",
            "description_width": ""
          }
        },
        "3fa850771569451685edaea0ab3551ef": {
          "model_module": "@jupyter-widgets/controls",
          "model_name": "HBoxModel",
          "model_module_version": "1.5.0",
          "state": {
            "_dom_classes": [],
            "_model_module": "@jupyter-widgets/controls",
            "_model_module_version": "1.5.0",
            "_model_name": "HBoxModel",
            "_view_count": null,
            "_view_module": "@jupyter-widgets/controls",
            "_view_module_version": "1.5.0",
            "_view_name": "HBoxView",
            "box_style": "",
            "children": [
              "IPY_MODEL_6e3ee34148054adf860e86ea5a390f53",
              "IPY_MODEL_412076dbea4c4eaf85e758443b03381e",
              "IPY_MODEL_d6722d335af94eaaa7a2a2c810561608"
            ],
            "layout": "IPY_MODEL_c914e1dae8484e0cb54274549750f734"
          }
        },
        "6e3ee34148054adf860e86ea5a390f53": {
          "model_module": "@jupyter-widgets/controls",
          "model_name": "HTMLModel",
          "model_module_version": "1.5.0",
          "state": {
            "_dom_classes": [],
            "_model_module": "@jupyter-widgets/controls",
            "_model_module_version": "1.5.0",
            "_model_name": "HTMLModel",
            "_view_count": null,
            "_view_module": "@jupyter-widgets/controls",
            "_view_module_version": "1.5.0",
            "_view_name": "HTMLView",
            "description": "",
            "description_tooltip": null,
            "layout": "IPY_MODEL_13a55aec29c7408987123609e5f880fe",
            "placeholder": "​",
            "style": "IPY_MODEL_75846aaa633640dc8a9f895d18e17864",
            "value": "Map: 100%"
          }
        },
        "412076dbea4c4eaf85e758443b03381e": {
          "model_module": "@jupyter-widgets/controls",
          "model_name": "FloatProgressModel",
          "model_module_version": "1.5.0",
          "state": {
            "_dom_classes": [],
            "_model_module": "@jupyter-widgets/controls",
            "_model_module_version": "1.5.0",
            "_model_name": "FloatProgressModel",
            "_view_count": null,
            "_view_module": "@jupyter-widgets/controls",
            "_view_module_version": "1.5.0",
            "_view_name": "ProgressView",
            "bar_style": "success",
            "description": "",
            "description_tooltip": null,
            "layout": "IPY_MODEL_913e806629c0490ca4a19e3e2c20b86f",
            "max": 325,
            "min": 0,
            "orientation": "horizontal",
            "style": "IPY_MODEL_1198e7fd56a74020ab6cdb190755f828",
            "value": 325
          }
        },
        "d6722d335af94eaaa7a2a2c810561608": {
          "model_module": "@jupyter-widgets/controls",
          "model_name": "HTMLModel",
          "model_module_version": "1.5.0",
          "state": {
            "_dom_classes": [],
            "_model_module": "@jupyter-widgets/controls",
            "_model_module_version": "1.5.0",
            "_model_name": "HTMLModel",
            "_view_count": null,
            "_view_module": "@jupyter-widgets/controls",
            "_view_module_version": "1.5.0",
            "_view_name": "HTMLView",
            "description": "",
            "description_tooltip": null,
            "layout": "IPY_MODEL_74e1c9c0ed254e64ad08ca7610eb84cf",
            "placeholder": "​",
            "style": "IPY_MODEL_2bdaaa0647354912b21e09aa29f399b3",
            "value": " 325/325 [00:00&lt;00:00, 1007.14 examples/s]"
          }
        },
        "c914e1dae8484e0cb54274549750f734": {
          "model_module": "@jupyter-widgets/base",
          "model_name": "LayoutModel",
          "model_module_version": "1.2.0",
          "state": {
            "_model_module": "@jupyter-widgets/base",
            "_model_module_version": "1.2.0",
            "_model_name": "LayoutModel",
            "_view_count": null,
            "_view_module": "@jupyter-widgets/base",
            "_view_module_version": "1.2.0",
            "_view_name": "LayoutView",
            "align_content": null,
            "align_items": null,
            "align_self": null,
            "border": null,
            "bottom": null,
            "display": null,
            "flex": null,
            "flex_flow": null,
            "grid_area": null,
            "grid_auto_columns": null,
            "grid_auto_flow": null,
            "grid_auto_rows": null,
            "grid_column": null,
            "grid_gap": null,
            "grid_row": null,
            "grid_template_areas": null,
            "grid_template_columns": null,
            "grid_template_rows": null,
            "height": null,
            "justify_content": null,
            "justify_items": null,
            "left": null,
            "margin": null,
            "max_height": null,
            "max_width": null,
            "min_height": null,
            "min_width": null,
            "object_fit": null,
            "object_position": null,
            "order": null,
            "overflow": null,
            "overflow_x": null,
            "overflow_y": null,
            "padding": null,
            "right": null,
            "top": null,
            "visibility": null,
            "width": null
          }
        },
        "13a55aec29c7408987123609e5f880fe": {
          "model_module": "@jupyter-widgets/base",
          "model_name": "LayoutModel",
          "model_module_version": "1.2.0",
          "state": {
            "_model_module": "@jupyter-widgets/base",
            "_model_module_version": "1.2.0",
            "_model_name": "LayoutModel",
            "_view_count": null,
            "_view_module": "@jupyter-widgets/base",
            "_view_module_version": "1.2.0",
            "_view_name": "LayoutView",
            "align_content": null,
            "align_items": null,
            "align_self": null,
            "border": null,
            "bottom": null,
            "display": null,
            "flex": null,
            "flex_flow": null,
            "grid_area": null,
            "grid_auto_columns": null,
            "grid_auto_flow": null,
            "grid_auto_rows": null,
            "grid_column": null,
            "grid_gap": null,
            "grid_row": null,
            "grid_template_areas": null,
            "grid_template_columns": null,
            "grid_template_rows": null,
            "height": null,
            "justify_content": null,
            "justify_items": null,
            "left": null,
            "margin": null,
            "max_height": null,
            "max_width": null,
            "min_height": null,
            "min_width": null,
            "object_fit": null,
            "object_position": null,
            "order": null,
            "overflow": null,
            "overflow_x": null,
            "overflow_y": null,
            "padding": null,
            "right": null,
            "top": null,
            "visibility": null,
            "width": null
          }
        },
        "75846aaa633640dc8a9f895d18e17864": {
          "model_module": "@jupyter-widgets/controls",
          "model_name": "DescriptionStyleModel",
          "model_module_version": "1.5.0",
          "state": {
            "_model_module": "@jupyter-widgets/controls",
            "_model_module_version": "1.5.0",
            "_model_name": "DescriptionStyleModel",
            "_view_count": null,
            "_view_module": "@jupyter-widgets/base",
            "_view_module_version": "1.2.0",
            "_view_name": "StyleView",
            "description_width": ""
          }
        },
        "913e806629c0490ca4a19e3e2c20b86f": {
          "model_module": "@jupyter-widgets/base",
          "model_name": "LayoutModel",
          "model_module_version": "1.2.0",
          "state": {
            "_model_module": "@jupyter-widgets/base",
            "_model_module_version": "1.2.0",
            "_model_name": "LayoutModel",
            "_view_count": null,
            "_view_module": "@jupyter-widgets/base",
            "_view_module_version": "1.2.0",
            "_view_name": "LayoutView",
            "align_content": null,
            "align_items": null,
            "align_self": null,
            "border": null,
            "bottom": null,
            "display": null,
            "flex": null,
            "flex_flow": null,
            "grid_area": null,
            "grid_auto_columns": null,
            "grid_auto_flow": null,
            "grid_auto_rows": null,
            "grid_column": null,
            "grid_gap": null,
            "grid_row": null,
            "grid_template_areas": null,
            "grid_template_columns": null,
            "grid_template_rows": null,
            "height": null,
            "justify_content": null,
            "justify_items": null,
            "left": null,
            "margin": null,
            "max_height": null,
            "max_width": null,
            "min_height": null,
            "min_width": null,
            "object_fit": null,
            "object_position": null,
            "order": null,
            "overflow": null,
            "overflow_x": null,
            "overflow_y": null,
            "padding": null,
            "right": null,
            "top": null,
            "visibility": null,
            "width": null
          }
        },
        "1198e7fd56a74020ab6cdb190755f828": {
          "model_module": "@jupyter-widgets/controls",
          "model_name": "ProgressStyleModel",
          "model_module_version": "1.5.0",
          "state": {
            "_model_module": "@jupyter-widgets/controls",
            "_model_module_version": "1.5.0",
            "_model_name": "ProgressStyleModel",
            "_view_count": null,
            "_view_module": "@jupyter-widgets/base",
            "_view_module_version": "1.2.0",
            "_view_name": "StyleView",
            "bar_color": null,
            "description_width": ""
          }
        },
        "74e1c9c0ed254e64ad08ca7610eb84cf": {
          "model_module": "@jupyter-widgets/base",
          "model_name": "LayoutModel",
          "model_module_version": "1.2.0",
          "state": {
            "_model_module": "@jupyter-widgets/base",
            "_model_module_version": "1.2.0",
            "_model_name": "LayoutModel",
            "_view_count": null,
            "_view_module": "@jupyter-widgets/base",
            "_view_module_version": "1.2.0",
            "_view_name": "LayoutView",
            "align_content": null,
            "align_items": null,
            "align_self": null,
            "border": null,
            "bottom": null,
            "display": null,
            "flex": null,
            "flex_flow": null,
            "grid_area": null,
            "grid_auto_columns": null,
            "grid_auto_flow": null,
            "grid_auto_rows": null,
            "grid_column": null,
            "grid_gap": null,
            "grid_row": null,
            "grid_template_areas": null,
            "grid_template_columns": null,
            "grid_template_rows": null,
            "height": null,
            "justify_content": null,
            "justify_items": null,
            "left": null,
            "margin": null,
            "max_height": null,
            "max_width": null,
            "min_height": null,
            "min_width": null,
            "object_fit": null,
            "object_position": null,
            "order": null,
            "overflow": null,
            "overflow_x": null,
            "overflow_y": null,
            "padding": null,
            "right": null,
            "top": null,
            "visibility": null,
            "width": null
          }
        },
        "2bdaaa0647354912b21e09aa29f399b3": {
          "model_module": "@jupyter-widgets/controls",
          "model_name": "DescriptionStyleModel",
          "model_module_version": "1.5.0",
          "state": {
            "_model_module": "@jupyter-widgets/controls",
            "_model_module_version": "1.5.0",
            "_model_name": "DescriptionStyleModel",
            "_view_count": null,
            "_view_module": "@jupyter-widgets/base",
            "_view_module_version": "1.2.0",
            "_view_name": "StyleView",
            "description_width": ""
          }
        },
        "8c8919f3b8c44da0adf7a3d315fc429c": {
          "model_module": "@jupyter-widgets/controls",
          "model_name": "HBoxModel",
          "model_module_version": "1.5.0",
          "state": {
            "_dom_classes": [],
            "_model_module": "@jupyter-widgets/controls",
            "_model_module_version": "1.5.0",
            "_model_name": "HBoxModel",
            "_view_count": null,
            "_view_module": "@jupyter-widgets/controls",
            "_view_module_version": "1.5.0",
            "_view_name": "HBoxView",
            "box_style": "",
            "children": [
              "IPY_MODEL_c362de63d0ef40069b91b5e710160f21",
              "IPY_MODEL_c49443ba18a74de196d7f0dd91478430",
              "IPY_MODEL_874075f4e52c41e18427518bcb7e07c1"
            ],
            "layout": "IPY_MODEL_9ccff258c58140b5b1175c7ff8e2470a"
          }
        },
        "c362de63d0ef40069b91b5e710160f21": {
          "model_module": "@jupyter-widgets/controls",
          "model_name": "HTMLModel",
          "model_module_version": "1.5.0",
          "state": {
            "_dom_classes": [],
            "_model_module": "@jupyter-widgets/controls",
            "_model_module_version": "1.5.0",
            "_model_name": "HTMLModel",
            "_view_count": null,
            "_view_module": "@jupyter-widgets/controls",
            "_view_module_version": "1.5.0",
            "_view_name": "HTMLView",
            "description": "",
            "description_tooltip": null,
            "layout": "IPY_MODEL_d1988fd7ea58428385920db7a206bef1",
            "placeholder": "​",
            "style": "IPY_MODEL_665372d1e2824466be46e4e12aed6caf",
            "value": "Map: 100%"
          }
        },
        "c49443ba18a74de196d7f0dd91478430": {
          "model_module": "@jupyter-widgets/controls",
          "model_name": "FloatProgressModel",
          "model_module_version": "1.5.0",
          "state": {
            "_dom_classes": [],
            "_model_module": "@jupyter-widgets/controls",
            "_model_module_version": "1.5.0",
            "_model_name": "FloatProgressModel",
            "_view_count": null,
            "_view_module": "@jupyter-widgets/controls",
            "_view_module_version": "1.5.0",
            "_view_name": "ProgressView",
            "bar_style": "success",
            "description": "",
            "description_tooltip": null,
            "layout": "IPY_MODEL_f2a3b8555b6045cab33f75ff9c6b44de",
            "max": 345,
            "min": 0,
            "orientation": "horizontal",
            "style": "IPY_MODEL_39961d14f358408d88b1468ac0523869",
            "value": 345
          }
        },
        "874075f4e52c41e18427518bcb7e07c1": {
          "model_module": "@jupyter-widgets/controls",
          "model_name": "HTMLModel",
          "model_module_version": "1.5.0",
          "state": {
            "_dom_classes": [],
            "_model_module": "@jupyter-widgets/controls",
            "_model_module_version": "1.5.0",
            "_model_name": "HTMLModel",
            "_view_count": null,
            "_view_module": "@jupyter-widgets/controls",
            "_view_module_version": "1.5.0",
            "_view_name": "HTMLView",
            "description": "",
            "description_tooltip": null,
            "layout": "IPY_MODEL_122cdc49114548ac90468464d708d9b1",
            "placeholder": "​",
            "style": "IPY_MODEL_58aa403134534c9a9605337d5e0db51c",
            "value": " 345/345 [00:00&lt;00:00, 1155.56 examples/s]"
          }
        },
        "9ccff258c58140b5b1175c7ff8e2470a": {
          "model_module": "@jupyter-widgets/base",
          "model_name": "LayoutModel",
          "model_module_version": "1.2.0",
          "state": {
            "_model_module": "@jupyter-widgets/base",
            "_model_module_version": "1.2.0",
            "_model_name": "LayoutModel",
            "_view_count": null,
            "_view_module": "@jupyter-widgets/base",
            "_view_module_version": "1.2.0",
            "_view_name": "LayoutView",
            "align_content": null,
            "align_items": null,
            "align_self": null,
            "border": null,
            "bottom": null,
            "display": null,
            "flex": null,
            "flex_flow": null,
            "grid_area": null,
            "grid_auto_columns": null,
            "grid_auto_flow": null,
            "grid_auto_rows": null,
            "grid_column": null,
            "grid_gap": null,
            "grid_row": null,
            "grid_template_areas": null,
            "grid_template_columns": null,
            "grid_template_rows": null,
            "height": null,
            "justify_content": null,
            "justify_items": null,
            "left": null,
            "margin": null,
            "max_height": null,
            "max_width": null,
            "min_height": null,
            "min_width": null,
            "object_fit": null,
            "object_position": null,
            "order": null,
            "overflow": null,
            "overflow_x": null,
            "overflow_y": null,
            "padding": null,
            "right": null,
            "top": null,
            "visibility": null,
            "width": null
          }
        },
        "d1988fd7ea58428385920db7a206bef1": {
          "model_module": "@jupyter-widgets/base",
          "model_name": "LayoutModel",
          "model_module_version": "1.2.0",
          "state": {
            "_model_module": "@jupyter-widgets/base",
            "_model_module_version": "1.2.0",
            "_model_name": "LayoutModel",
            "_view_count": null,
            "_view_module": "@jupyter-widgets/base",
            "_view_module_version": "1.2.0",
            "_view_name": "LayoutView",
            "align_content": null,
            "align_items": null,
            "align_self": null,
            "border": null,
            "bottom": null,
            "display": null,
            "flex": null,
            "flex_flow": null,
            "grid_area": null,
            "grid_auto_columns": null,
            "grid_auto_flow": null,
            "grid_auto_rows": null,
            "grid_column": null,
            "grid_gap": null,
            "grid_row": null,
            "grid_template_areas": null,
            "grid_template_columns": null,
            "grid_template_rows": null,
            "height": null,
            "justify_content": null,
            "justify_items": null,
            "left": null,
            "margin": null,
            "max_height": null,
            "max_width": null,
            "min_height": null,
            "min_width": null,
            "object_fit": null,
            "object_position": null,
            "order": null,
            "overflow": null,
            "overflow_x": null,
            "overflow_y": null,
            "padding": null,
            "right": null,
            "top": null,
            "visibility": null,
            "width": null
          }
        },
        "665372d1e2824466be46e4e12aed6caf": {
          "model_module": "@jupyter-widgets/controls",
          "model_name": "DescriptionStyleModel",
          "model_module_version": "1.5.0",
          "state": {
            "_model_module": "@jupyter-widgets/controls",
            "_model_module_version": "1.5.0",
            "_model_name": "DescriptionStyleModel",
            "_view_count": null,
            "_view_module": "@jupyter-widgets/base",
            "_view_module_version": "1.2.0",
            "_view_name": "StyleView",
            "description_width": ""
          }
        },
        "f2a3b8555b6045cab33f75ff9c6b44de": {
          "model_module": "@jupyter-widgets/base",
          "model_name": "LayoutModel",
          "model_module_version": "1.2.0",
          "state": {
            "_model_module": "@jupyter-widgets/base",
            "_model_module_version": "1.2.0",
            "_model_name": "LayoutModel",
            "_view_count": null,
            "_view_module": "@jupyter-widgets/base",
            "_view_module_version": "1.2.0",
            "_view_name": "LayoutView",
            "align_content": null,
            "align_items": null,
            "align_self": null,
            "border": null,
            "bottom": null,
            "display": null,
            "flex": null,
            "flex_flow": null,
            "grid_area": null,
            "grid_auto_columns": null,
            "grid_auto_flow": null,
            "grid_auto_rows": null,
            "grid_column": null,
            "grid_gap": null,
            "grid_row": null,
            "grid_template_areas": null,
            "grid_template_columns": null,
            "grid_template_rows": null,
            "height": null,
            "justify_content": null,
            "justify_items": null,
            "left": null,
            "margin": null,
            "max_height": null,
            "max_width": null,
            "min_height": null,
            "min_width": null,
            "object_fit": null,
            "object_position": null,
            "order": null,
            "overflow": null,
            "overflow_x": null,
            "overflow_y": null,
            "padding": null,
            "right": null,
            "top": null,
            "visibility": null,
            "width": null
          }
        },
        "39961d14f358408d88b1468ac0523869": {
          "model_module": "@jupyter-widgets/controls",
          "model_name": "ProgressStyleModel",
          "model_module_version": "1.5.0",
          "state": {
            "_model_module": "@jupyter-widgets/controls",
            "_model_module_version": "1.5.0",
            "_model_name": "ProgressStyleModel",
            "_view_count": null,
            "_view_module": "@jupyter-widgets/base",
            "_view_module_version": "1.2.0",
            "_view_name": "StyleView",
            "bar_color": null,
            "description_width": ""
          }
        },
        "122cdc49114548ac90468464d708d9b1": {
          "model_module": "@jupyter-widgets/base",
          "model_name": "LayoutModel",
          "model_module_version": "1.2.0",
          "state": {
            "_model_module": "@jupyter-widgets/base",
            "_model_module_version": "1.2.0",
            "_model_name": "LayoutModel",
            "_view_count": null,
            "_view_module": "@jupyter-widgets/base",
            "_view_module_version": "1.2.0",
            "_view_name": "LayoutView",
            "align_content": null,
            "align_items": null,
            "align_self": null,
            "border": null,
            "bottom": null,
            "display": null,
            "flex": null,
            "flex_flow": null,
            "grid_area": null,
            "grid_auto_columns": null,
            "grid_auto_flow": null,
            "grid_auto_rows": null,
            "grid_column": null,
            "grid_gap": null,
            "grid_row": null,
            "grid_template_areas": null,
            "grid_template_columns": null,
            "grid_template_rows": null,
            "height": null,
            "justify_content": null,
            "justify_items": null,
            "left": null,
            "margin": null,
            "max_height": null,
            "max_width": null,
            "min_height": null,
            "min_width": null,
            "object_fit": null,
            "object_position": null,
            "order": null,
            "overflow": null,
            "overflow_x": null,
            "overflow_y": null,
            "padding": null,
            "right": null,
            "top": null,
            "visibility": null,
            "width": null
          }
        },
        "58aa403134534c9a9605337d5e0db51c": {
          "model_module": "@jupyter-widgets/controls",
          "model_name": "DescriptionStyleModel",
          "model_module_version": "1.5.0",
          "state": {
            "_model_module": "@jupyter-widgets/controls",
            "_model_module_version": "1.5.0",
            "_model_name": "DescriptionStyleModel",
            "_view_count": null,
            "_view_module": "@jupyter-widgets/base",
            "_view_module_version": "1.2.0",
            "_view_name": "StyleView",
            "description_width": ""
          }
        }
      }
    }
  },
  "nbformat": 4,
  "nbformat_minor": 0
}